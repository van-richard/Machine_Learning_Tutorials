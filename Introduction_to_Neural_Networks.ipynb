{
  "nbformat": 4,
  "nbformat_minor": 0,
  "metadata": {
    "colab": {
      "provenance": [],
      "authorship_tag": "ABX9TyN95FIAbO7TSR1PZKQxA6+j",
      "include_colab_link": true
    },
    "kernelspec": {
      "name": "python3",
      "display_name": "Python 3"
    },
    "language_info": {
      "name": "python"
    },
    "widgets": {
      "application/vnd.jupyter.widget-state+json": {
        "8802e09f12fe47b8bf289ac970e941f6": {
          "model_module": "@jupyter-widgets/controls",
          "model_name": "VBoxModel",
          "model_module_version": "1.5.0",
          "state": {
            "_dom_classes": [
              "widget-interact"
            ],
            "_model_module": "@jupyter-widgets/controls",
            "_model_module_version": "1.5.0",
            "_model_name": "VBoxModel",
            "_view_count": null,
            "_view_module": "@jupyter-widgets/controls",
            "_view_module_version": "1.5.0",
            "_view_name": "VBoxView",
            "box_style": "",
            "children": [
              "IPY_MODEL_e0332e62245a4a5194f1c4c38c67caba",
              "IPY_MODEL_ff0bec30caf64423be47798e6cbd7f57"
            ],
            "layout": "IPY_MODEL_71315e972e4c44fba119cd712f56bd1e"
          }
        },
        "e0332e62245a4a5194f1c4c38c67caba": {
          "model_module": "@jupyter-widgets/controls",
          "model_name": "IntSliderModel",
          "model_module_version": "1.5.0",
          "state": {
            "_dom_classes": [],
            "_model_module": "@jupyter-widgets/controls",
            "_model_module_version": "1.5.0",
            "_model_name": "IntSliderModel",
            "_view_count": null,
            "_view_module": "@jupyter-widgets/controls",
            "_view_module_version": "1.5.0",
            "_view_name": "IntSliderView",
            "continuous_update": true,
            "description": "m",
            "description_tooltip": null,
            "disabled": false,
            "layout": "IPY_MODEL_52917e093ca94694bf6eb06db651effd",
            "max": 5,
            "min": -5,
            "orientation": "horizontal",
            "readout": true,
            "readout_format": "d",
            "step": 1,
            "style": "IPY_MODEL_67a3331c2f80490199e0c89a6c2726b2",
            "value": 0
          }
        },
        "ff0bec30caf64423be47798e6cbd7f57": {
          "model_module": "@jupyter-widgets/output",
          "model_name": "OutputModel",
          "model_module_version": "1.0.0",
          "state": {
            "_dom_classes": [],
            "_model_module": "@jupyter-widgets/output",
            "_model_module_version": "1.0.0",
            "_model_name": "OutputModel",
            "_view_count": null,
            "_view_module": "@jupyter-widgets/output",
            "_view_module_version": "1.0.0",
            "_view_name": "OutputView",
            "layout": "IPY_MODEL_dccfe946ec904ade87fd0a079526e9f0",
            "msg_id": "",
            "outputs": []
          }
        },
        "71315e972e4c44fba119cd712f56bd1e": {
          "model_module": "@jupyter-widgets/base",
          "model_name": "LayoutModel",
          "model_module_version": "1.2.0",
          "state": {
            "_model_module": "@jupyter-widgets/base",
            "_model_module_version": "1.2.0",
            "_model_name": "LayoutModel",
            "_view_count": null,
            "_view_module": "@jupyter-widgets/base",
            "_view_module_version": "1.2.0",
            "_view_name": "LayoutView",
            "align_content": null,
            "align_items": null,
            "align_self": null,
            "border": null,
            "bottom": null,
            "display": null,
            "flex": null,
            "flex_flow": null,
            "grid_area": null,
            "grid_auto_columns": null,
            "grid_auto_flow": null,
            "grid_auto_rows": null,
            "grid_column": null,
            "grid_gap": null,
            "grid_row": null,
            "grid_template_areas": null,
            "grid_template_columns": null,
            "grid_template_rows": null,
            "height": null,
            "justify_content": null,
            "justify_items": null,
            "left": null,
            "margin": null,
            "max_height": null,
            "max_width": null,
            "min_height": null,
            "min_width": null,
            "object_fit": null,
            "object_position": null,
            "order": null,
            "overflow": null,
            "overflow_x": null,
            "overflow_y": null,
            "padding": null,
            "right": null,
            "top": null,
            "visibility": null,
            "width": null
          }
        },
        "52917e093ca94694bf6eb06db651effd": {
          "model_module": "@jupyter-widgets/base",
          "model_name": "LayoutModel",
          "model_module_version": "1.2.0",
          "state": {
            "_model_module": "@jupyter-widgets/base",
            "_model_module_version": "1.2.0",
            "_model_name": "LayoutModel",
            "_view_count": null,
            "_view_module": "@jupyter-widgets/base",
            "_view_module_version": "1.2.0",
            "_view_name": "LayoutView",
            "align_content": null,
            "align_items": null,
            "align_self": null,
            "border": null,
            "bottom": null,
            "display": null,
            "flex": null,
            "flex_flow": null,
            "grid_area": null,
            "grid_auto_columns": null,
            "grid_auto_flow": null,
            "grid_auto_rows": null,
            "grid_column": null,
            "grid_gap": null,
            "grid_row": null,
            "grid_template_areas": null,
            "grid_template_columns": null,
            "grid_template_rows": null,
            "height": null,
            "justify_content": null,
            "justify_items": null,
            "left": null,
            "margin": null,
            "max_height": null,
            "max_width": null,
            "min_height": null,
            "min_width": null,
            "object_fit": null,
            "object_position": null,
            "order": null,
            "overflow": null,
            "overflow_x": null,
            "overflow_y": null,
            "padding": null,
            "right": null,
            "top": null,
            "visibility": null,
            "width": null
          }
        },
        "67a3331c2f80490199e0c89a6c2726b2": {
          "model_module": "@jupyter-widgets/controls",
          "model_name": "SliderStyleModel",
          "model_module_version": "1.5.0",
          "state": {
            "_model_module": "@jupyter-widgets/controls",
            "_model_module_version": "1.5.0",
            "_model_name": "SliderStyleModel",
            "_view_count": null,
            "_view_module": "@jupyter-widgets/base",
            "_view_module_version": "1.2.0",
            "_view_name": "StyleView",
            "description_width": "",
            "handle_color": null
          }
        },
        "dccfe946ec904ade87fd0a079526e9f0": {
          "model_module": "@jupyter-widgets/base",
          "model_name": "LayoutModel",
          "model_module_version": "1.2.0",
          "state": {
            "_model_module": "@jupyter-widgets/base",
            "_model_module_version": "1.2.0",
            "_model_name": "LayoutModel",
            "_view_count": null,
            "_view_module": "@jupyter-widgets/base",
            "_view_module_version": "1.2.0",
            "_view_name": "LayoutView",
            "align_content": null,
            "align_items": null,
            "align_self": null,
            "border": null,
            "bottom": null,
            "display": null,
            "flex": null,
            "flex_flow": null,
            "grid_area": null,
            "grid_auto_columns": null,
            "grid_auto_flow": null,
            "grid_auto_rows": null,
            "grid_column": null,
            "grid_gap": null,
            "grid_row": null,
            "grid_template_areas": null,
            "grid_template_columns": null,
            "grid_template_rows": null,
            "height": null,
            "justify_content": null,
            "justify_items": null,
            "left": null,
            "margin": null,
            "max_height": null,
            "max_width": null,
            "min_height": null,
            "min_width": null,
            "object_fit": null,
            "object_position": null,
            "order": null,
            "overflow": null,
            "overflow_x": null,
            "overflow_y": null,
            "padding": null,
            "right": null,
            "top": null,
            "visibility": null,
            "width": null
          }
        },
        "5f2b056947da4aa69033d5a050bccff6": {
          "model_module": "jupyter-matplotlib",
          "model_name": "MPLCanvasModel",
          "model_module_version": "^0.11",
          "state": {
            "_cursor": "default",
            "_data_url": "data:image/png;base64,iVBORw0KGgoAAAANSUhEUgAAAbAAAAEgCAYAAADVKCZpAAAAOXRFWHRTb2Z0d2FyZQBNYXRwbG90bGliIHZlcnNpb24zLjUuMywgaHR0cHM6Ly9tYXRwbG90bGliLm9yZy/NK7nSAAAACXBIWXMAAAsTAAALEwEAmpwYAAAwYUlEQVR4nO3deVgV9f4H8PcI4sYmKIgHFeEgOxKC0CKlieAShloulXbVUOv+bjfLpVuWLS4t1+xeS6PM7N6bVLjggvtumgRpICSCgrLLKouynu/vD41HAhSFc+Ys79fz8DzMzPfM+cycA29mmPkcSQgBIiIiXdNJ7gKIiIjuBwOMiIh0EgOMiIh0EgOMiIh0EgOMiIh0EgOMiIh0EgOMiIh0EgOMiIh0EgOMiIh0EgOMiIh0EgOMiIh0EgOMiIh0EgOMiIh0EgOMiIh0EgOMiIh0EgOMiIh0EgOMiIh0EgOMiIh0EgOMSE9JkpQlSdIQuesgUhdJCCF3DUTUwSRJsgRQDMBMCHFd5nKI1IJHYEQ6RpKkpZIkLb3LMC8AVxhepM8YYGSQJEkylSSpQZIku9vmeUqSlCdJklk71z1LkqS9kiStlSSpVJKkC5IkuUuS9LIkSVckSSqSJGnCrbEfSpK07bbHfiRJ0kFJkkzaUwNuBtjFWzWUSJKUJknSI+1cJ5FWYYCRQRJCVAI4D8D3ttkrASwXQlT8MUOSpJ2SJJW18rWzldUPBuAHIBpALwBJAHbfWuYE4D0Ab96a/gDAcEmSHpAkaS6AUAAThBC17dxEr1s17LpVw38BfNnOdRJpFWO5CyCS0S+4GWC7JEkKAuAOYMLtA4QQ4+5jvYMBrBBCHAQASZJSAHQRQnx6a/ocbv3sCSGKJUn6BMBGABYAHhFCXLvP7bmdN4BVQoidt57zKwBvS5JkLISo74D1E8mOR2BkyP4IMAD4EMCSDjjyAW6Gx+1HZ+4tTJ+/bfoMbh4xvS6EyGpphbcfCQJYDGDxXY4EPXHzCPAPvQCUMbxInzDAyJD9AsBXkqSJALoC+O7PAyRJ2i1JUmUrX7tbGD8AgAmAC7fN9gFw9rZp7z+mJUnyArAWN4/AZrZWqBBinBDCUghhiZunOlf+Mf3no8RbNZgDKLxtdjhunk4k0hs8hUiG7DcAfQD8E8A80cI9JUKI0fe4zsEAkoQQKgCQJMkcwAAAiX8as02SJAWAHQDmAjgAIEOSpMeEEEfudUP+xAtAPYBpkiT9G8DoW88xrJ3rJdIqPAIjgyWEqMHNCywyhRDNjqbu02A0P9pK/+NydkmSOuHm6b1zAGJx8/9U228t/wjAsg6owQvAtwAeBlAK4G0A44UQaR2wbiKtwRuZyWDdulQ9HcDTQoif5a6HiO4Nj8DIkL0N4CeGF5FuYoCRwZEkyVeSpGsAggD8n9z1ENH94SlEIiLSSTwCIyIincQAIyIinaS394GFhoaKoqIiucsgaiYtLQ3Ozs5yl0HUooSEhCIhRG+562gLff4fmN5uGOk2Pz8/xMfHy10GUYskSUoQQvjJXUdb8BQiERHpJAYYERHpJAYYERHpJAYYGbyZM2fCxsYGnp6ejfNKSkoQHBwMZ2dnBAcHo7S0tMXHbty4Ec7OznB2dsbGjRs1VTIRgQFGhOeffx579uxpMm/lypV4/PHHkZaWhscffxwrV65s9riSkhK88847OH36NOLi4vDOO++0GnRE1PEYYGTwgoKCYGVl1WReTEwMZsyYAQCYMWMGtm3b1uxxe/fuRXBwMKysrNCzZ08EBwc3C0IiUh8GGFELCgoKYGdnBwDo06cPCgoKmo3JyclBv379Gqft7e2Rk5OjsRqJ/kylEth2Jgc19Q1yl6IRensjM1FHkSQJkiS1ax2RkZGIjIwEABQWFt5lNNG9yyyqwuItifj5Ugmq67wwZWh/uUtSOx6BEbXA1tYWeXl5AIC8vDzY2Ng0G6NQKJCVldU4nZ2dDYVC0eL6IiIiEB8fj/j4ePTurRNNDkhH1DeoEHnsIkJWH0NyTjlWTvDCZP9+d3+gHmCAEbUgLCys8arCjRs3Yvz48c3GhISEYN++fSgtLUVpaSn27duHkJAQTZdKBux8fjkmrj2J5bHnMcy5N/bPfxRThvZv9xkDXcEAI4M3depUPPjgg0hNTYW9vT3Wr1+PxYsXY//+/XB2dsaBAwewePFiAEB8fDxmz54NALCyssKSJUvg7+8Pf39/vPXWW80uBiFSh5r6BqzafwHj/nUC2aU3sGbaA/hy+hD0segqd2kaxV6IRBrGXojUHmeulGLR5kRcKKhE+AMKvDXOHT17mHTY+nWpFyIv4iAi0gHXa+vxz30X8PVPGehj3hUbnvfHcNfm/5s1JAwwIiIt91N6ERZvSURWyQ08E9Afi0e7wqxrZ7nLkh0DjIhIS127UYflu37H9/FZGNirB76PCESAo7XcZWkNBhgRkRbal5yPN7edQ1FlDeY86ohXRg5C185GcpelVRhgRERapKiyBm9vT8auxDy49jHDVzP84G1vKXdZWokBRkSkBYQQ2HY2B+/sSMH1mga8NmoQ5jzqhM5GvNupNQwwIiKZ5ZbdwBtbk3A4tRC+/S3x4SRvKG3M5C5L6zHAiIhkolIJ/O/0ZazcfR4CwNIn3PHcgw4w6mQYnTTaiwFGRCSDS4WVWLw5CXGZJRjm3AvLw73Qz6q73GXpFAYYEZEG1Teo8NWJDHyy/wK6GHfCR5O8MWmIvcH0L+xIDDAiIg1JyS3Hos2JSMq5hhAPW7w33hM25obVv7AjMcCIiNSsuq4Baw6lY93Ri7DsboK1z/hitJed3GXpPAYYEZEaJVwuwcLoRFwsrMJEX3ssGecGy+4d13zXkDHAiIjUoKqmHh/tTcXGU5noa9ENG2cOxaOD+GGmHYkBRkTUwY6nFeL1LUnIKbuB6YEDsCDUFaZd+Ou2o3GPEhF1kGvX6/DerhREJ2TDsXcP/DDnQfg78ENO1YU9SohakZqaCh8fn8Yvc3NzrF69usmYI0eOwMLConHMu+++K0+xJLs95/Iw8pOj2HomB/Mec0Ls34YxvNSMR2BErXBxccHZs2cBAA0NDVAoFAgPD282btiwYdi5c6eGqyNtcbWiGm/HJGP3uXy425ljw/P+8FRYyF2WQWCAEbXBwYMH4eTkhAEDBshdCmkJIQQ2/5qD93am4EZdAxaEuCAiyJHNdzWIAUbUBlFRUZg6dWqLy06dOoXBgwejb9+++Pjjj+Hh4aHh6kjTskqu4x9bk3A8rQh+A3pi5URvKG1M5S7L4EhCCLlrUBe93TDSrNraWvTt2xfJycmwtbVtsqy8vBydOnWCqakpYmNj8fLLLyMtLa3ZOiIjIxEZGQkAKCwsxOXLlzVSO3UslUrg21OZ+HBvKgBgUagrngscgE561HxXkqQEIYSf3HW0BQOM6C5iYmLw2WefYd++fXcd6+DggPj4ePTq1avVMX5+foiPj+/IEkkD0q9WYvHmRMRfLkXQoN5YHu4J+57613xXlwKMpxCJ7mLTpk2tnj7Mz8+Hra0tJElCXFwcVCoVrK2tNVwhqVNdgwqRxy7h04Np6NbZCP98ajAm+CrYfFcLMMCI7qCqqgr79+/HF1980Thv3bp1AIC5c+ciOjoaa9euhbGxMbp164aoqCj+YtMj53KuYWF0IlLyyjHGqw/eCfNEb7MucpdFt/AUIpGG8RSi9quua8CnB9MQeewSrHqY4L3xHgj1NIzmuzyFSESko37JLMGi6ERcKqrCU0Ps8eZYd1h07yx3WdQCBhgREYDKmnp8tOc8vv35MhSW3fCfWUMxzJnNd7UZA4yIDN7RC4X4x5Yk5F67gecfcsBro1zQg813tR5fISIyWGXXa/Hezt+x+ddsKG1MET33IQwZ0FPusqiNGGBEZHCEENh9Lh9vxZxD2fU6/N8IJf46QokuxkZyl0b3gAFGRAblank1lsScw97kAngpLPDtzAC49zWXuyy6DwwwIjIIQgj8GJ+N93aloLZehddHu2LWIwNhzOa7OosBRkR6L6vkOl7fkoQT6UUY6mCFlRO94NibzXd1HQOMiPRWg0pg48lMfLQ3FZ0k4L0nPfHM0P561XzXkDHAiEgvpRVUYOHmRJy5UobHXHpjWbgXFJbd5C6LOhADjIj0Sl2DCuuOXMS/D6WjRxcjrJ7sg/E+fdmjUg8xwIhIbyRlX8OC6N9wPr8C47ztsDTMA71M2XxXXzHAiEjnVdc14JMDF/DlsUvoZdoFkc8NwSiPPnKXRWrGACMinXb6UjEWbU5EZvF1TPHvh9fHuMGiG5vvGgIGGBHppIrqOqzcfR7/O30F/ay64X+zA/CwsvVPwib9wwAjIp1z+PxV/GNrEgrKqzH7kYGYP2oQupvw15mh4StOdAcODg4wMzODkZERjI2Nm30QpRACL7/8MmJjY9G9e3d888038PX1lala/VdSVYt3dyRj29lcONuY4vN5D+GB/my+a6gYYER3cfjwYfTq1fKpqd27dyMtLQ1paWk4ffo05s2bh9OnT2u4Qv0nhMCOxDws3Z6M8ht1ePlxZ7w43InNdw0cA4yoHWJiYjB9+nRIkoTAwECUlZUhLy8PdnaG8fHzmpB/rRpvbjuHA78XwNveAh++EADXPmy+SwwwojuSJAmjRo2CJEmYM2cOIiIimizPyclBv379Gqft7e2Rk5PDAOsAQghE/ZKF5bt+R51KhTfGuGHmIwNhxDZQdAsDjOgOTpw4AYVCgatXryI4OBiurq4ICgq65/VERkYiMjISAFBYWNjRZeqdy8VVWLw5CacuFSPQ0QorJ3jDoVcPucsiLcPPESC6A4VCAQCwsbFBeHg44uLimi3PyspqnM7Ozm58zO0iIiIQHx+P+Ph49O7dW71F67AGlcBXxy8hZPUxnMu5hhUTvLDphUCGF7WIAUbUiqqqKlRUVDR+v2/fPnh6ejYZExYWhm+//RZCCPz888+wsLDg6cP7lJpfgQlrT+L9Xb/jYade2Dc/CFOH9mcPQ2oVTyEStaKgoADh4eEAgPr6ekybNg2hoaFYt24dAGDu3LkYM2YMYmNjoVQq0b17d2zYsEHOknVSbb0Knx9Jx2eH02HWtTM+neKDsMFsvkt3Jwkh5K5BXfR2w0i3+fn5NbufzFCdzSrDouhEpBZUYLxPX7w1zh3WbL4rK0mSEoQQfnLX0RY8AiMijbtR24BV+1Ox/kQGbMy6Yv0MPzzuZit3WaRjGGBEpFEnLxZh8eYkXCm5jmkB/bF4tCvMu7L5Lt07BhgRaUR5dR1WxJ7HprgrGGDdHZteCMSDTtZyl0U6jAFGRGp3IKUAb2xLQmFFDSKCHPHKyEHoZsI2UNQ+DDAiUpviyhos3ZGCHb/lwrWPGb6c7gdve0u5yyI9wQAjog4nhMD233KxdHsyKmvqMT94EOY+6gQTY956Sh2HAUZEHSrv2g28sfUcDp2/igf6W+KDid4YZGsmd1mkhxhgRNQhVCqB7+KuYOXu82hQCSwZ547nH3Jg811SGwYYEbVbRlEVFm9OxOmMEjystMaKcG/0t+4ud1mk5xhgRHTf6htUWH8iA6v2X4CJcSd8MNELT/v1Yxso0ggGGBHdl/P55VgYnYjE7GsIdrfF+096wta8q9xlkQFhgBHRPampb8Bnhy/i88PpsOjWGWumPYCxXnY86iKNY4ARUZv9eqUUi6ITkXa1EhMeUGDJOHf07GEid1lkoBhgRHRX12vr8fHeC9hwMgN9zLtiw/P+GO5qI3dZZOAYYER0Rz+lF2HxlkRkldzAc4EDsDDUBWZsvktagAFGRC26dqMOy3f9ju/jszCwVw98HxGIAEc23yXtwb4uRK3IysrC8OHD4e7uDg8PD3z66afNxhw5cgQWFhbw8fGBj48P3n33XRkq7Xj7kvMRvOooon/NxtxHnbD75WEML9I6PAIjaoWxsTH++c9/wtfXFxUVFRgyZAiCg4Ph7u7eZNywYcOwc+dOmarsWIUVNVi6PRm7kvLgZmeO9TP84WVvIXdZRC1igBG1ws7ODnZ2dgAAMzMzuLm5IScnp1mA6QMhBLaeycG7O1NwvaYBC0JcEBHkiM5GPElD2osBRtQGmZmZOHPmDAICApotO3XqFAYPHoy+ffvi448/hoeHhwwV3r+csht4Y2sSjqQWwre/JT6c5A2lDZvvkvZjgBHdRWVlJSZOnIjVq1fD3Ny8yTJfX19cvnwZpqamiI2NxZNPPom0tLRm64iMjERkZCQAoLCwUCN1341KJfC/05excvd5CABLn3DH9Acd0InNd0lHSEIIuWtQF73dMNKcuro6jBs3DiEhIZg/f/5dxzs4OCA+Ph69evVqdYyfnx/i4+M7ssx7dqmwEos3JyEuswTDnHthebgX+lmx+S4BkiQlCCH85K6jLXgERtQKIQRmzZoFNze3VsMrPz8ftra2kCQJcXFxUKlUsLbW3qv16htU+PJ4Bj45cAFdjTvho0nemDTEnm2gSCcxwIha8dNPP+E///kPvLy84OPjAwBYvnw5rly5AgCYO3cuoqOjsXbtWhgbG6Nbt26IiorS2jBIyS3Hws2/4VxOOUI8bPHeeE/YsPku6TCeQiTSME2fQqypb8C/D6Zj3dGLsOxugvfGe2C0l53Gnp90C08hEpFWSLhcgoXRibhYWIUJvgq8Nc4dlt3ZfJf0AwOMSA9V1dTjo72p2HgqE30tumHjzKF4dFBvucsi6lAMMCI9c+xCIV7fkoTcazcwPXAAFoS6wrQLf9RJ//BdTaQnrl2vw3u7UhCdkA3H3j3ww5wH4e9gJXdZRGrDACPSA3vO5WFJTDJKqmrx0nAn/N8IZ3TtbCR3WURqxQAj0mFXK6rxdkwydp/Lh0dfc3zzF3949GXzXTIMDDAiHSSEQHRCNt7f9Ttu1DVgYagLXhjG5rtkWBhgRDomu/Q6Xt+ShONpRfB36ImVE73h1NtU7rKINI4BRqQjVCqBb09l4sO9qZAAvDveA88GDGDzXTJYDDAiHZB+tRKLNyci/nIpggb1xvJwT9j3ZPNdMmwMMCItVtegQuSxS/j0QBq6mRjhn08NxgRfhdb2WyTSJAYYkZY6l3MNC6MTkZJXjjFeffBOmCd6m3WRuywircEAI9Iy1XUNWH0gDV8evwSrHiZY96wvQj3ZfJfozxhgRFokLqMEizcn4lJRFZ72s8cbY9xh0b2z3GURaSUGGJEWqKypxwe7z+M/P1+Gfc9u+O+sADzi3PqnOhMRwLseie5gz549cHFxgVKpxMqVK5str6mpweTJk6FUKhEQEIDMzMx7fo4jqVcxatVR/Pf0ZfzlYQfs/XsQw4uoDRhgRK1oaGjASy+9hN27dyMlJQWbNm1CSkpKkzHr169Hz549kZ6ejldeeQWLFi1q8/pLq2ox//uzeH7DL+jexRjRcx/C2094oAc7xxO1CQOMqBVxcXFQKpVwdHSEiYkJpkyZgpiYmCZjYmJiMGPGDADApEmTcPDgQbTlU853JeYh+JOj2P5bLv42Qoldf3sEQwb0VMt2EOkrBhhRK3JyctCvX7/GaXt7e+Tk5LQ6xtjYGBYWFiguLm51nQXl1bhcfB0vffcr7Cy6Ycf/PYL5o1zQxZid44nuldSWvxZ1UWhoqCgqKrqvxxYWFqJ3b+379FrWdW/aW1dpaSnKy8sxYMAAAEBxcTGqqqrQv3//xjHJyclwdnaGiYkJACApKQlubm4wNm56GrCwsBBXr12Hqqs56opz0M/RGb3MukCbbkfW19dRnbS1tvbUlZCQUC6E0I2PNBBC6OvXfRsyZEh7Hq42rOvetLeukydPilGjRjVOL1++XCxfvrzJmFGjRomTJ08KIYSoq6sT1tbWQqVSNRlzuahKTPvylBiwaKd4at1J0c3UrF11qYu+vo7qpK21tacuAPFC/t/fbfriKUSiVvj7+yMtLQ0ZGRmora1FVFQUwsLCmowJCwvDxo0bAQDR0dEYMWJEY5unBpXA+hMZCFl9DL9lXcOycE9EvRAISdWg8W0h0ke83ImoFcbGxlizZg1CQkLQ0NCAmTNnwsPDA2+99Rb8/PwQFhaGWbNm4bnnnoNSqYSVlRWioqIAAGkFFVi4ORFnrpRhhKsNloV7ws6im8xbRKRfGGAtiIiIkLuEFrGue9MRdY0ZMwZjxoxpMu/dd99t/L5r16748ccfG6dr61X418E0rDmUjh5djPDpFB+EDe7bpPlur17aeY+XPr+O6qKttWlrXR1Nby/iAKC3G0baKTG7DAujE3E+vwJPDO6LpU+4w9q0efNdPz8/xMfHy1Ah0d1JkpQghPCTu4624BEYUTtV1zXgk/0X8OXxS+ht1gVfTvdDsLut3GUR6T2DvYjjxx9/hIeHBzp16tTsr+EVK1ZAqVTCxcUFe/fubfHxGRkZCAgIgFKpxOTJk1FbW9vhNU6ePBk+Pj7w8fGBg4MDfHx8Whzn4OAALy8v+Pj4wM9P/X84LV26FAqForG22NjYFsfdrQ1TR1uwYAFcXV3h7e2N8PBwlJWVtTiuI/fXz5eKEbr6GL44dgmT/fth//xHG8NLE22o7lVWVhaGDx8Od3d3eHh44NNPP2025siRI7CwsGh8fW8/ZapOd3tdhBD429/+BqVSCW9vb/z6669qryk1NbVxP/j4+MDc3ByrV69uMkaT+2vmzJmwsbGBp6dn47ySkhIEBwfD2dkZwcHBKC0tbfGxGzduhLOzM5ydnRsvPNJ5cl8GqcavO0pJSRHnz58Xjz76qPjll18a5ycnJwtvb29RXV0tLl26JBwdHUV9fX2zxz/11FNi06ZNQggh5syZIz7//PO7PWW7zJ8/X7zzzjstLhswYIAoLCxU6/Pf7u233xYfffTRHcfU19cLR0dHcfHiRVFTUyO8vb1FcnKyWuvau3evqKurE0IIsXDhQrFw4cIWx3XE/iq/USv+sSVRDFi0Uwz74JD4Ka3p+u60/X9c4vzZZ5+JOXPmCCGE2LRpk3j66afbVVNb5ObmioSEhJvbUF4unJ2dm70uhw8fFmPHjlV7LX92t9dl165dIjQ0VKhUKnHq1CkxdOhQDVZ38zW1tbUVmZmZTeZrcn8dPXpUJCQkCA8Pj8Z5CxYsECtWrBBCCLFixYoW3/fFxcVi4MCBori4WJSUlIiBAweKkpKSFp8DvIxe+7m5ucHFxaXZ/JiYGEyZMgVdunTBwIEDoVQqERcX12SMEAKHDh3CpEmTAAAzZszAtm3b1FarEAI//PADpk6dqrbn6GhtacPU0UaNGtV4A3FgYCCys7PV8jyHzhdg1CfHsCnuCmY/MhB7/x6Eh5RNL8xQZxuq9rCzs4Ovry8AwMzMDG5ubs26i2irmJgYTJ8+HZIkITAwEGVlZcjLy9PY8x88eBBOTk6NN7bLISgoCFZWVk3m3f4+au130d69exEcHAwrKyv07NkTwcHB2LNnjyZKViuDDbDWtKV9UHFxMSwtLRt/WbY0piMdP34ctra2cHZ2bnG5JEkYNWoUhgwZgsjISLXVcbs1a9bA29sbM2fObPGURVv2ozp9/fXXGD16dIvL7nd/lVTV4u9RZzDzm3iYdTXG5nkP4c1x7uhm0rwNlDraUHW0zMxMnDlzBgEBAc2WnTp1CoMHD8bo0aORnJyskXru9rrI/Z6Kiopq9Y9IOfbXHwoKCmBnd/MDT/v06YOCgoJmY+Ted+qi1xdxjBw5Evn5+c3mL1u2DOPHj5ehoubaUuOmTZvuePR14sQJKBQKXL16FcHBwXB1dUVQUJDa6po3bx6WLFkCSZKwZMkSvPrqq/j666/b9XwdUdcf+2vZsmUwNjbGM8880+I67nV/CSGwIzEPS7cno6K6Di8/7oyXhithYqy7f/9VVlZi4sSJWL16NczNzZss8/X1xeXLl2FqaorY2Fg8+eSTSEtLU3tN6ngfd5Ta2lps374dK1asaLZMrv3VEkmSmtyyoe/0OsAOHDhwz49RKBTIyspqnM7OzoZCoWgyxtraGmVlZaivr4exsXGLYzqqxvr6emzZsgUJCQl3rBkAbGxsEB4ejri4uHb/4Ld1373wwgsYN25cizXdbT+qo65vvvkGO3fuxMGDB1v9Qb6X/ZV/rRpvbkvCgd+vYnA/S3w40RsufczuWmdbtv+PMfb29qivr8e1a9dgbW1913W3V11dHSZOnIhnnnkGEyZMaLb89kAbM2YMXnzxRRQVFan9/rW7vS7qek+1xe7du+Hr6wtb2+ZXl8q1v/5ga2uLvLw82NnZIS8vDzY2Ns3GKBQKHDlypHE6Ozsbjz32mEbqUyfd/RNSTcLCwhAVFYWamhpkZGQgLS0NQ4cObTJGkiQMHz4c0dHRAG5e3aOuI7oDBw7A1dUV9vb2LS6vqqpCRUVF4/f79u1rcoWSOtz+f4etW7e2+HxtacPU0fbs2YMPP/wQ27dvR/fu3Vsc09b9JYTAprgrCF51FCfSi/DmWDdsmfdQm8ILaH8bKnURQmDWrFlwc3PD/PnzWxyTn5/f+L+4uLg4qFQqtQdrW16XsLAwfPvttxBC4Oeff4aFhUXjqTN1u9NZEDn21+1ufx+19rsoJCQE+/btQ2lpKUpLS7Fv3z6EhIRorEa1kfsqEjV+3dGWLVuEQqEQJiYmwsbGpknT1vfff184OjqKQYMGidjY2Mb5o0ePFjk5OUIIIS5evCj8/f2Fk5OTmDRpkqiurr7bU96XGTNmiLVr1zaZl5OTI0aPHt1Yh7e3t/D29hbu7u7i/fffV0sdt3v22WeFp6en8PLyEk888YTIzc1tVpcQN68ac3Z2Fo6Ojhqpy8nJSdjb24vBgweLwYMHN17hd6/7K7OoUkz54mbz3SlfnBKZRZX3VU9L279kyRLh5OQkhBDixo0bYtKkScLJyUn4+/uLixcv3tfz3Ivjx48LAMLLy6txP+3atUusXbu28X3273//W7i7uwtvb28REBAgfvrpJ7XX1drrcntdKpVKvPjii8LR0VF4eno2uXpYnSorK4WVlZUoKytrnCfX/poyZYro06ePMDY2FgqFQnz11VeiqKhIjBgxQiiVSvH444+L4uJiIYQQv/zyi5g1a1bjY9evXy+cnJyEk5OT+Prrr1t9DujQVYjsxEF0S4NKYMNPGfh4Xyo6d+qEf4x1wxT/fh1+VMROHKTN2ImDSMek5t9svvtbVhlGutng/Se90Meiq9xlEdEdMMDIoNXWq/D5kXR8djgdZl07419TH8AT3nYGdSUXka5igJHBOptVhkXRiUgtqMB4n754+wkPWPUwkbssImojBhgZnBu1DVi1PxXrT2TAxqwr1s/ww+NubL5LpGsYYGRQTl4swuLNSbhSch3PBPTHotGuMO/aWe6yiOg+MMDIIJRX12FF7HlsirsCB+vuiIoIRKBj6/fqLFiwADt27ICJiQmcnJywYcMGWFpaNhvn4OAAMzMzGBkZwdjYmFcXEmkQb2QmvXcgpQDBq47i+1+uYE6QI3a/HHTH8AKA4OBgnDt3DomJiRg0aFCLLYT+cPjwYZw9e5bhRaRhPAIjvVVcWYOlO1Kw47dcuPYxw5fT/eBtb9mmx44aNarx+8DAwMauK0SkPRhgpHeEEIg5m4t3diSjsqYe84MHYe6jTvfdfPfrr7/G5MmTW1z2Rwd1SZIwZ84cREREtKd0IroHDDDSK7llN/DmtnM4dP4qfPpZ4qNJ3nC2bbl/oSY720dGRjZ+REhhYeH9bh4R3YatpEgvqFQC38Vdwcrd59GgElgQ4oIZDznAqNP935D8zTff4IsvvsDBgwdbbQ58u6VLl8LU1BSvvfbaHcexlRRpM7aSItKgjKIqLN6ciNMZJXhYaY0V4d7ob333wLmTPzrbHz169I6d7VUqFczMzBo7qL/11lvtel4iajsGGOms+gYV1p/IwKr9F2Bi3AkfTvTGU372HdIG6q9//StqamoQHBwM4OaFHOvWrUNubi5mz56N2NhYFBQUIDw8/GYt9fWYNm0aQkND2/3cRNQ2PIVIOun3vHIs2pyIxOxrCHa3xftPesLWXDea7/IUImkznkIkUpOa+gZ8digdnx+5CMvunfHZNF+M8erD5rtEBogBRjoj4XIpFm1ORPrVSkzwVWDJWHf0ZPNdIoPFACOtd722Hh/tTcU3JzNhZ94VG/7ij+EuNnKXRUQyY4CRVjueVojXtyQhu/QGngscgEWjXWHahW9bImKAkZa6dqMOy3al4If4bAzs1QPfRwQi4C79C4nIsDDASOvsTc7Hkm3nUFxVi3mPOeHlx53RtbOR3GURkZZhgJHWKKyowdLtydiVlAc3O3Osn+EPL3sLucsiIi3FACPZCSGw5dccvLszBTdqG7AgxAURQY7obMRP+yGi1jHASFbZpdfxxtZzOHqhEEMG9MQHE72gtGm5+S4R0e0YYCQLlUrgv6cv44Pd5yEALH3CHdMfdECndjTfJSLDwgAjjbtYWInFmxPxS2Yphjn3wvJwL/Szal/zXSIyPAww0pi6BhW+PH4Jqw+koatxJ3w0yRuThnRM810iMjwMMNKIcznXsGhzIpJzyxHq0QfvPukBGzPdaL5LRNqJAUZqVV3XgH8dTMMXxy6hZ/fO+PwZX4zxspO7LCLSAwwwUpuEyyVYGJ2Ii4VVmOhrjyXj3GDZnc13iahjMMCow1XV3Gy+u/FUJvpadMM3f/HHY2y+S0QdjHeKUoc6dqEQoz45ho2nMjHjQQfsfSVIJ8Nr6dKlUCgU8PHxgY+PD2JjY1sct2fPHri4uECpVGLlypUarpLIsPEIjDpE2fVavL/rd0QnZMOxdw/8OOdB+DlYyV1Wu7zyyit47bXXWl3e0NCAl156Cfv374e9vT38/f0RFhYGd3d3DVZJZLgYYNRuu5PysCQmGaXXa/HX4Ur8dYTSIJrvxsXFQalUwtHREQAwZcoUxMTEMMCINISnEOm+XS2vxtz/JGDe/36FrXkXbP/rw3gtxEVvwmvNmjXw9vbGzJkzUVpa2mx5Tk4O+vXr1zhtb2+PnJwcTZZIZNAYYHTPhBD4MT4LI1cdxaHUq1gU6oqYlx6GR1/d6hw/cuRIeHp6NvuKiYnBvHnzcPHiRZw9exZ2dnZ49dVX2/VckZGR8PPzg5+fHwoLCztoC4gMG08h0j3JKrmOf2xNwvG0Ivg79MQHE73h2NtU7rLuy4EDB9o07oUXXsC4ceOazVcoFMjKymqczs7OhkKhaHEdERERiIiIAAD4+fndR7VE9GcMMGqTBpXAt6cy8dHeVEgA3hvvgWcCBuht8928vDzY2d284Xrr1q3w9PRsNsbf3x9paWnIyMiAQqFAVFQUvvvuO02XSmSwGGB0V+lXK7BocxISLpfi0UG9sXyCFxSW3eQuS60WLlyIs2fPQpIkODg44IsvvgAA5ObmYvbs2YiNjYWxsTHWrFmDkJAQNDQ0YObMmfDw8JC5ciLDIQkh5K5BXfR2wzSlrkGFL45exL8OpqN7FyO8Nc4d4Q8o2Hy3nfz8/BAfHy93GUQtkiQpQQihE+e5eQRGLTqXcw0LoxORkleOsV52WBrmgd5mXeQui4ioEQOMmqiua8CnB9MQeewSrHuY4IvnhiDEo4/cZRERNcMAo0anLxVj8ZYkZBRV4Wk/e7wxxh0W3TvLXRYRUYsYYITKmnp8sPs8/vPzZdj37Ib/zgrAI8695C6LiOiOGGAG7nDqVbyxJQl55dWY+fBAvBYyCN1N+LYgIu3H31QGqrSqFu/tTMGWMzlwtjHF5nkPwbd/T7nLIiJqMwaYgRFCYFdSHt6OSca1G3X42wglXhqhRBdj/ehfSESGgwFmQArKq7Fk2znsSymAl8IC/50dADc7c7nLIiK6LwwwAyCEwA/xWXh/1++orVfh9dGumPXIQBgbsZczEekuBpieu1J8Ha9vTcRP6cUIGGiFlRO9MbBXD7nLIiJqNwaYnmpQCXxzMhMf702FUScJy8I9MdW/v9423yUiw8MA00NpBRVYuDkRZ66UYYSrDZaFe8LOQr+b7xKR4WGA6ZHaehXWHb2INYfS0aOLEVZP9sF4n75svktEeokBpicSs8uwMDoR5/Mr8MTgvlj6hDusTdl8l4j0FwNMx92obcDqAxfw5fFL6G3WBV9O90Owu63cZRERqR0DTIf9fKkYizcnIrP4OqYO7YfXx7jBvCub73aEyZMnIzU1FQBQVlYGS0tLnD17ttk4BwcHmJmZwcjICMbGxvycLyINYoDpoPLqOqzcfR7fnb6C/lbd8d3sADykZPPdjvT99983fv/qq6/CwsKi1bGHDx9Gr17c/0SaxgDTMYfOF+AfW87hakU1Zj8yEK+OckE3E7aBUhchBH744QccOnRI7lKI6E8YYDqipKoW7+5IxrazuRhka4q1zz6EB9h8V+2OHz8OW1tbODs7t7hckiSMGjUKkiRhzpw5iIiI0HCFRIaLAablhBDYkZiHpduTUVFdh7+PdMaLjylhYsw2UO01cuRI5OfnN5u/bNkyjB8/HgCwadMmTJ06tdV1nDhxAgqFAlevXkVwcDBcXV0RFBTUbFxkZCQiIyMBAIWFhR20BUSGTRJCyF2Duuj8huVfq8ab25Jw4PerGGxvgQ8mecO1D5vvakp9fT0UCgUSEhJgb29/1/FLly6FqakpXnvttTuO8/Pz48UepLUkSUoQQvjJXUdb8M94LSSEwKa4KwhedRQn0ovw5lg3bHnxYYaXhh04cACurq6thldVVRUqKioav9+3bx88PT01WSKRQeMpRC1zubgKizcn4dSlYjzoaI2VE70wwJrNd+UQFRXV7PRhbm4uZs+ejdjYWBQUFCA8PBzAzaO1adOmITQ0VI5SiQwSTyFqiQaVwIafMvDxvlR07tQJb4x1w2T/fmwDpYd4CpG0mS6dQuQRmBZIzb/ZfPe3rDKMdLPB+096oY9FV7nLIiLSagwwGdXWq/D5kXR8djgd5l07499TH8A4bzsedRERtQEDTCZns8qwKDoRqQUVGO/TF28/4QGrHiZyl0VEpDMYYBp2o7YBq/anYv2JDNiad8XXz/thhCub7xIR3SsGmAadvFiExZuTcKXkOqYF9Mfro11hxua7RET3hQGmAddu1GHl7t+xKS4LDtbdERURiEBHa7nLIiLSaQwwNdufUoA3tyWhsKIGc4Ic8feRg9h8l4ioAzDA1KSosgZLtydjZ2IeXPuY4cvpfvC2t5S7LCIivcEA62BCCGw7m4N3dqSgqqYe84MHYe6jTmy+S0TUwRhgHSi37Abe2JqEw6mFeKC/JT6c6A1nWzO5yyIi0ksMsA6gUgn8L+4KPth9Hg0qgSXj3PH8Qw4w6sQbkomI1IUB1k6XCiuxeEsS4jJK8LDSGivCvdHfurvcZRER6T0G2H2qb1DhqxMZ+GT/BZgYd8KHE73xlJ8920AREWkIA+w+pOSWY9HmRCTlXEOwuy3ef9ITtuZsvktEpEkMsHtQU9+ANYfSsfbIRVh064w10x7AWC823yUikgMDrI0SLpdi0eZEpF+txARfBZaMdUdPNt8lIpINb066i6qaeryzIxmT1p3EjdoGfPMXf6x62ofhpSd+/PFHeHh4oFOnTs0+ZHLFihVQKpVwcXHB3r17W3x8RkYGAgICoFQqMXnyZNTW1mqibCICA+yOjqcVImT1MWz4KRPPBgzA3leC8JiLjdxlUQfy9PTEli1bEBQU1GR+SkoKoqKikJycjD179uDFF19EQ0NDs8cvWrQIr7zyCtLT09GzZ0+sX79eU6UTGTwGWAuuXa/Dwujf8Nz6OJgYdcIPcx7Ee096wrQLz7jqGzc3N7i4uDSbHxMTgylTpqBLly4YOHAglEol4uLimowRQuDQoUOYNGkSAGDGjBnYtm2bJsomIvB/YM3sTynAP7YmoaSqFnMfdcLfRzqja2c23zU0OTk5CAwMbJy2t7dHTk5OkzHFxcWwtLSEsbFxq2OISH0YYH+SXXodvU27YMPz/vBUWMhdDnWAkSNHIj8/v9n8ZcuWYfz48RqpITIyEpGRkQCAwsJCjTwnkb5jgP3J9Acd8GzgAHQ24tlVfXHgwIF7foxCoUBWVlbjdHZ2NhQKRZMx1tbWKCsrQ319PYyNjVsc84eIiAhEREQAAPz8/O65HiJqjr+l/8Sok8TwIoSFhSEqKgo1NTXIyMhAWloahg4d2mSMJEkYPnw4oqOjAQAbN27U2BEdETHAyMBt3boV9vb2OHXqFMaOHYuQkBAAgIeHB55++mm4u7sjNDQUn332GYyMbv4vdMyYMcjNzQUAfPDBB1i1ahWUSiWKi4sxa9Ys2baFyNBIQgi5a1AXvd0w0m1+fn7N7jkj0haSJCUIIXTiPDePwIiISCcxwIiISCcxwIiISCcxwIiISCcxwIiISCfp81WIRFpJkqQ9QohQuesgaokuvT8ZYEREpJN4CpGIiHQSA4yIiHQSA4yIiHQSA4yIiHQSA4yIiHQSA4yIiHQSA4yIiHQSA4yIiHQSA4yIiHQSA4yIiHQSA4yIiHQSA4yIiHQSA4yIiHQSA4yIiHQSA4yIiHQSA4yIiHQSA4yIiHQSA4yIiHQSA4yIiHQSA4yIiHQSA4yIiHQSA4yIiHQSA4yIiHQSA4yIiHQSA4yIiHQSA4yIiHQSA4yIiHQSA4yIiHQSA4yIiHQSA4yIiHQSA4yIiHQSA4yIiHQSA4yIiHQSA4yIiHTS/wN550UtNtkBKwAAAABJRU5ErkJggg==",
            "_dom_classes": [],
            "_figure_label": "Figure 1",
            "_image_mode": "full",
            "_message": "",
            "_model_module": "jupyter-matplotlib",
            "_model_module_version": "^0.11",
            "_model_name": "MPLCanvasModel",
            "_rubberband_height": 0,
            "_rubberband_width": 0,
            "_rubberband_x": 0,
            "_rubberband_y": 0,
            "_size": [
              432,
              288
            ],
            "_view_count": null,
            "_view_module": "jupyter-matplotlib",
            "_view_module_version": "^0.11",
            "_view_name": "MPLCanvasView",
            "capture_scroll": false,
            "footer_visible": true,
            "header_visible": true,
            "layout": "IPY_MODEL_9cdca57f15364aec83688900eb2a802a",
            "pan_zoom_throttle": 33,
            "resizable": true,
            "toolbar": "IPY_MODEL_5e02e8363c7b4813b1abcbd080f46c37",
            "toolbar_position": "left",
            "toolbar_visible": "fade-in-fade-out"
          }
        },
        "9cdca57f15364aec83688900eb2a802a": {
          "model_module": "@jupyter-widgets/base",
          "model_name": "LayoutModel",
          "model_module_version": "1.2.0",
          "state": {
            "_model_module": "@jupyter-widgets/base",
            "_model_module_version": "1.2.0",
            "_model_name": "LayoutModel",
            "_view_count": null,
            "_view_module": "@jupyter-widgets/base",
            "_view_module_version": "1.2.0",
            "_view_name": "LayoutView",
            "align_content": null,
            "align_items": null,
            "align_self": null,
            "border": null,
            "bottom": null,
            "display": null,
            "flex": null,
            "flex_flow": null,
            "grid_area": null,
            "grid_auto_columns": null,
            "grid_auto_flow": null,
            "grid_auto_rows": null,
            "grid_column": null,
            "grid_gap": null,
            "grid_row": null,
            "grid_template_areas": null,
            "grid_template_columns": null,
            "grid_template_rows": null,
            "height": null,
            "justify_content": null,
            "justify_items": null,
            "left": null,
            "margin": null,
            "max_height": null,
            "max_width": null,
            "min_height": null,
            "min_width": null,
            "object_fit": null,
            "object_position": null,
            "order": null,
            "overflow": null,
            "overflow_x": null,
            "overflow_y": null,
            "padding": null,
            "right": null,
            "top": null,
            "visibility": null,
            "width": null
          }
        },
        "5e02e8363c7b4813b1abcbd080f46c37": {
          "model_module": "jupyter-matplotlib",
          "model_name": "ToolbarModel",
          "model_module_version": "^0.11",
          "state": {
            "_current_action": "",
            "_dom_classes": [],
            "_model_module": "jupyter-matplotlib",
            "_model_module_version": "^0.11",
            "_model_name": "ToolbarModel",
            "_view_count": null,
            "_view_module": "jupyter-matplotlib",
            "_view_module_version": "^0.11",
            "_view_name": "ToolbarView",
            "button_style": "",
            "collapsed": true,
            "layout": "IPY_MODEL_d9fbb3eb1b4b4c8d98d9c5fcaee3b9ca",
            "orientation": "vertical",
            "toolitems": [
              [
                "Home",
                "Reset original view",
                "home",
                "home"
              ],
              [
                "Back",
                "Back to previous view",
                "arrow-left",
                "back"
              ],
              [
                "Forward",
                "Forward to next view",
                "arrow-right",
                "forward"
              ],
              [
                "Pan",
                "Left button pans, Right button zooms\nx/y fixes axis, CTRL fixes aspect",
                "arrows",
                "pan"
              ],
              [
                "Zoom",
                "Zoom to rectangle\nx/y fixes axis",
                "square-o",
                "zoom"
              ],
              [
                "Download",
                "Download plot",
                "floppy-o",
                "save_figure"
              ]
            ]
          }
        },
        "d9fbb3eb1b4b4c8d98d9c5fcaee3b9ca": {
          "model_module": "@jupyter-widgets/base",
          "model_name": "LayoutModel",
          "model_module_version": "1.2.0",
          "state": {
            "_model_module": "@jupyter-widgets/base",
            "_model_module_version": "1.2.0",
            "_model_name": "LayoutModel",
            "_view_count": null,
            "_view_module": "@jupyter-widgets/base",
            "_view_module_version": "1.2.0",
            "_view_name": "LayoutView",
            "align_content": null,
            "align_items": null,
            "align_self": null,
            "border": null,
            "bottom": null,
            "display": null,
            "flex": null,
            "flex_flow": null,
            "grid_area": null,
            "grid_auto_columns": null,
            "grid_auto_flow": null,
            "grid_auto_rows": null,
            "grid_column": null,
            "grid_gap": null,
            "grid_row": null,
            "grid_template_areas": null,
            "grid_template_columns": null,
            "grid_template_rows": null,
            "height": null,
            "justify_content": null,
            "justify_items": null,
            "left": null,
            "margin": null,
            "max_height": null,
            "max_width": null,
            "min_height": null,
            "min_width": null,
            "object_fit": null,
            "object_position": null,
            "order": null,
            "overflow": null,
            "overflow_x": null,
            "overflow_y": null,
            "padding": null,
            "right": null,
            "top": null,
            "visibility": null,
            "width": null
          }
        }
      }
    }
  },
  "cells": [
    {
      "cell_type": "markdown",
      "metadata": {
        "id": "view-in-github",
        "colab_type": "text"
      },
      "source": [
        "<a href=\"https://colab.research.google.com/github/van-richard/Machine_Learning_Tutorials/blob/main/Introduction_to_Neural_Networks.ipynb\" target=\"_parent\"><img src=\"https://colab.research.google.com/assets/colab-badge.svg\" alt=\"Open In Colab\"/></a>"
      ]
    },
    {
      "cell_type": "code",
      "source": [
        "#@title Overview { display-mode: \"form\" }\n",
        "#@markdown 1. Linear Models\n",
        "#@markdown     -  Linear Regression\n",
        "#@markdown 2. Nonlinear Models\n",
        "#@markdown     - Logistic Regression\n",
        "#@markdown         - Sigmoid Function \n",
        "#@markdown         - Hyperbolic Tangent\n",
        "\n",
        "\n",
        "!pip install mpl_interactions[jupyter] &> /dev/null\n",
        "!pip install \"ipywidgets>=7,<8\" &> /dev/null\n",
        "\n",
        "from ipywidgets import interact, interactive, fixed, interact_manual\n",
        "import ipywidgets as widgets\n",
        "import numpy as np\n",
        "import seaborn as sns\n",
        "import matplotlib.pyplot as plt\n",
        "\n",
        "print(\"Please restart kernal by:\")\n",
        "print(\"\\t Runtime > Restart Runtime\")"
      ],
      "metadata": {
        "id": "2ZwiSvqNU8_i",
        "colab": {
          "base_uri": "https://localhost:8080/"
        },
        "outputId": "766fe1ba-ce30-4a39-a6c3-0c5ab66a1620"
      },
      "execution_count": 5,
      "outputs": [
        {
          "output_type": "stream",
          "name": "stdout",
          "text": [
            "Please restart kernal by:\n",
            "\t Runtime > Restart Runtime\n"
          ]
        }
      ]
    },
    {
      "cell_type": "code",
      "source": [
        "#@title Linear Regression { display-mode: \"form\" }\n",
        "\n",
        "#@markdown \\begin{equation}\n",
        "#@markdown y = mx + b\n",
        "#@markdown \\tag{1}\n",
        "#@markdown \\end{equation}\n",
        "\n",
        "#@markdown Linear regression assumes a straight line relationship between your input variable, _x_, to your output variable, _y_, where:\n",
        "#@markdown - _m_ represents the slope of your line\n",
        "#@markdown - _x_ represents some input variable\n",
        "#@markdown - _b_ represents a constant which also intersects your y-axis\n",
        "\n",
        "#@markdown As an example, we can plot this function, _m_ is can be a value in [-5,5], while leaving the _b_ as zero (0).\n",
        "\n",
        "%matplotlib ipympl\n",
        "from google.colab import output\n",
        "output.enable_custom_widget_manager()\n",
        "\n",
        "x = np.linspace(-10, 10, 100)\n",
        "\n",
        "def f(x, m, b=0):\n",
        "    return m * x + b\n",
        "\n",
        "fig, ax = plt.subplots()\n",
        "line, = ax.plot(x, f(x, m=1, b=0))\n",
        "\n",
        "def update(m = 1):\n",
        "    line.set_ydata(f(x,m,b=0))\n",
        "    fig.canvas.draw_idle()\n",
        "    \n",
        "interact(update, m = (-5,5,1));\n",
        "\n",
        "# Formating plot\n",
        "ax.set_title('$y = mx + b$')\n",
        "# Move left y-axis and bottim x-axis to centre, passing through (0,0)\n",
        "ax.spines['left'].set_position('zero')\n",
        "ax.spines['bottom'].set_position('zero')\n",
        "\n",
        "\n"
      ],
      "metadata": {
        "colab": {
          "base_uri": "https://localhost:8080/",
          "height": 409,
          "referenced_widgets": [
            "8802e09f12fe47b8bf289ac970e941f6",
            "e0332e62245a4a5194f1c4c38c67caba",
            "ff0bec30caf64423be47798e6cbd7f57",
            "71315e972e4c44fba119cd712f56bd1e",
            "52917e093ca94694bf6eb06db651effd",
            "67a3331c2f80490199e0c89a6c2726b2",
            "dccfe946ec904ade87fd0a079526e9f0",
            "5f2b056947da4aa69033d5a050bccff6",
            "9cdca57f15364aec83688900eb2a802a",
            "5e02e8363c7b4813b1abcbd080f46c37",
            "d9fbb3eb1b4b4c8d98d9c5fcaee3b9ca"
          ]
        },
        "id": "i8JO4c3rGTM-",
        "outputId": "f3bcaba4-8336-4a95-ef26-7218a14d7226"
      },
      "execution_count": 52,
      "outputs": [
        {
          "output_type": "display_data",
          "data": {
            "text/plain": [
              "interactive(children=(IntSlider(value=1, description='m', max=5, min=-5), Output()), _dom_classes=('widget-int…"
            ],
            "application/vnd.jupyter.widget-view+json": {
              "version_major": 2,
              "version_minor": 0,
              "model_id": "8802e09f12fe47b8bf289ac970e941f6"
            }
          },
          "metadata": {
            "application/vnd.jupyter.widget-view+json": {
              "colab": {
                "custom_widget_manager": {
                  "url": "https://ssl.gstatic.com/colaboratory-static/widgets/colab-cdn-widget-manager/d2e234f7cc04bf79/manager.min.js"
                }
              }
            }
          }
        },
        {
          "output_type": "display_data",
          "data": {
            "text/plain": [
              "Canvas(toolbar=Toolbar(toolitems=[('Home', 'Reset original view', 'home', 'home'), ('Back', 'Back to previous …"
            ],
            "image/png": "[encoded data removed]",
            "text/html": [
              "\n",
              "            <div style=\"display: inline-block;\">\n",
              "                <div class=\"jupyter-widgets widget-label\" style=\"text-align: center;\">\n",
              "                    Figure\n",
              "                </div>\n",
              "                <img src='data:image/png;base64,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' width=432.0/>\n",
              "            </div>\n",
              "        "
            ],
            "application/vnd.jupyter.widget-view+json": {
              "version_major": 2,
              "version_minor": 0,
              "model_id": "5f2b056947da4aa69033d5a050bccff6"
            }
          },
          "metadata": {
            "application/vnd.jupyter.widget-view+json": {
              "colab": {
                "custom_widget_manager": {
                  "url": "https://ssl.gstatic.com/colaboratory-static/widgets/colab-cdn-widget-manager/d2e234f7cc04bf79/manager.min.js"
                }
              }
            }
          }
        }
      ]
    },
    {
      "cell_type": "code",
      "source": [],
      "metadata": {
        "id": "QAOdxMuUzs3a"
      },
      "execution_count": null,
      "outputs": []
    },
    {
      "cell_type": "code",
      "source": [],
      "metadata": {
        "id": "Hi1fRh033Eto"
      },
      "execution_count": null,
      "outputs": []
    }
  ]
}