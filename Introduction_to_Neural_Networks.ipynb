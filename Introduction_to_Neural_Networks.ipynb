{
  "nbformat": 4,
  "nbformat_minor": 0,
  "metadata": {
    "colab": {
      "provenance": [],
      "authorship_tag": "ABX9TyO5qRo5pCIOLjE/mIJrAxGp",
      "include_colab_link": true
    },
    "kernelspec": {
      "name": "python3",
      "display_name": "Python 3"
    },
    "language_info": {
      "name": "python"
    },
    "widgets": {
      "application/vnd.jupyter.widget-state+json": {
        "437a88acc6f747b3887058a2b621c3dc": {
          "model_module": "@jupyter-widgets/controls",
          "model_name": "VBoxModel",
          "model_module_version": "1.5.0",
          "state": {
            "_dom_classes": [
              "widget-interact"
            ],
            "_model_module": "@jupyter-widgets/controls",
            "_model_module_version": "1.5.0",
            "_model_name": "VBoxModel",
            "_view_count": null,
            "_view_module": "@jupyter-widgets/controls",
            "_view_module_version": "1.5.0",
            "_view_name": "VBoxView",
            "box_style": "",
            "children": [
              "IPY_MODEL_d48ba29fe968440494038e9ab491a860",
              "IPY_MODEL_c4a34ba1f9494b9f97b5e36e33d30925"
            ],
            "layout": "IPY_MODEL_c32e70637ac8443097d9739b1022c51d"
          }
        },
        "d48ba29fe968440494038e9ab491a860": {
          "model_module": "@jupyter-widgets/controls",
          "model_name": "IntSliderModel",
          "model_module_version": "1.5.0",
          "state": {
            "_dom_classes": [],
            "_model_module": "@jupyter-widgets/controls",
            "_model_module_version": "1.5.0",
            "_model_name": "IntSliderModel",
            "_view_count": null,
            "_view_module": "@jupyter-widgets/controls",
            "_view_module_version": "1.5.0",
            "_view_name": "IntSliderView",
            "continuous_update": true,
            "description": "m",
            "description_tooltip": null,
            "disabled": false,
            "layout": "IPY_MODEL_ecec04298fcc4c49879df020fab11188",
            "max": 5,
            "min": -5,
            "orientation": "horizontal",
            "readout": true,
            "readout_format": "d",
            "step": 1,
            "style": "IPY_MODEL_64f6f974f73543c2a5e54664625bca7a",
            "value": 1
          }
        },
        "c4a34ba1f9494b9f97b5e36e33d30925": {
          "model_module": "@jupyter-widgets/output",
          "model_name": "OutputModel",
          "model_module_version": "1.0.0",
          "state": {
            "_dom_classes": [],
            "_model_module": "@jupyter-widgets/output",
            "_model_module_version": "1.0.0",
            "_model_name": "OutputModel",
            "_view_count": null,
            "_view_module": "@jupyter-widgets/output",
            "_view_module_version": "1.0.0",
            "_view_name": "OutputView",
            "layout": "IPY_MODEL_30a1d00a04404cb082fc66bb0b735445",
            "msg_id": "",
            "outputs": []
          }
        },
        "c32e70637ac8443097d9739b1022c51d": {
          "model_module": "@jupyter-widgets/base",
          "model_name": "LayoutModel",
          "model_module_version": "1.2.0",
          "state": {
            "_model_module": "@jupyter-widgets/base",
            "_model_module_version": "1.2.0",
            "_model_name": "LayoutModel",
            "_view_count": null,
            "_view_module": "@jupyter-widgets/base",
            "_view_module_version": "1.2.0",
            "_view_name": "LayoutView",
            "align_content": null,
            "align_items": null,
            "align_self": null,
            "border": null,
            "bottom": null,
            "display": null,
            "flex": null,
            "flex_flow": null,
            "grid_area": null,
            "grid_auto_columns": null,
            "grid_auto_flow": null,
            "grid_auto_rows": null,
            "grid_column": null,
            "grid_gap": null,
            "grid_row": null,
            "grid_template_areas": null,
            "grid_template_columns": null,
            "grid_template_rows": null,
            "height": null,
            "justify_content": null,
            "justify_items": null,
            "left": null,
            "margin": null,
            "max_height": null,
            "max_width": null,
            "min_height": null,
            "min_width": null,
            "object_fit": null,
            "object_position": null,
            "order": null,
            "overflow": null,
            "overflow_x": null,
            "overflow_y": null,
            "padding": null,
            "right": null,
            "top": null,
            "visibility": null,
            "width": null
          }
        },
        "ecec04298fcc4c49879df020fab11188": {
          "model_module": "@jupyter-widgets/base",
          "model_name": "LayoutModel",
          "model_module_version": "1.2.0",
          "state": {
            "_model_module": "@jupyter-widgets/base",
            "_model_module_version": "1.2.0",
            "_model_name": "LayoutModel",
            "_view_count": null,
            "_view_module": "@jupyter-widgets/base",
            "_view_module_version": "1.2.0",
            "_view_name": "LayoutView",
            "align_content": null,
            "align_items": null,
            "align_self": null,
            "border": null,
            "bottom": null,
            "display": null,
            "flex": null,
            "flex_flow": null,
            "grid_area": null,
            "grid_auto_columns": null,
            "grid_auto_flow": null,
            "grid_auto_rows": null,
            "grid_column": null,
            "grid_gap": null,
            "grid_row": null,
            "grid_template_areas": null,
            "grid_template_columns": null,
            "grid_template_rows": null,
            "height": null,
            "justify_content": null,
            "justify_items": null,
            "left": null,
            "margin": null,
            "max_height": null,
            "max_width": null,
            "min_height": null,
            "min_width": null,
            "object_fit": null,
            "object_position": null,
            "order": null,
            "overflow": null,
            "overflow_x": null,
            "overflow_y": null,
            "padding": null,
            "right": null,
            "top": null,
            "visibility": null,
            "width": null
          }
        },
        "64f6f974f73543c2a5e54664625bca7a": {
          "model_module": "@jupyter-widgets/controls",
          "model_name": "SliderStyleModel",
          "model_module_version": "1.5.0",
          "state": {
            "_model_module": "@jupyter-widgets/controls",
            "_model_module_version": "1.5.0",
            "_model_name": "SliderStyleModel",
            "_view_count": null,
            "_view_module": "@jupyter-widgets/base",
            "_view_module_version": "1.2.0",
            "_view_name": "StyleView",
            "description_width": "",
            "handle_color": null
          }
        },
        "30a1d00a04404cb082fc66bb0b735445": {
          "model_module": "@jupyter-widgets/base",
          "model_name": "LayoutModel",
          "model_module_version": "1.2.0",
          "state": {
            "_model_module": "@jupyter-widgets/base",
            "_model_module_version": "1.2.0",
            "_model_name": "LayoutModel",
            "_view_count": null,
            "_view_module": "@jupyter-widgets/base",
            "_view_module_version": "1.2.0",
            "_view_name": "LayoutView",
            "align_content": null,
            "align_items": null,
            "align_self": null,
            "border": null,
            "bottom": null,
            "display": null,
            "flex": null,
            "flex_flow": null,
            "grid_area": null,
            "grid_auto_columns": null,
            "grid_auto_flow": null,
            "grid_auto_rows": null,
            "grid_column": null,
            "grid_gap": null,
            "grid_row": null,
            "grid_template_areas": null,
            "grid_template_columns": null,
            "grid_template_rows": null,
            "height": null,
            "justify_content": null,
            "justify_items": null,
            "left": null,
            "margin": null,
            "max_height": null,
            "max_width": null,
            "min_height": null,
            "min_width": null,
            "object_fit": null,
            "object_position": null,
            "order": null,
            "overflow": null,
            "overflow_x": null,
            "overflow_y": null,
            "padding": null,
            "right": null,
            "top": null,
            "visibility": null,
            "width": null
          }
        },
        "7819c1129f164400a2949641cb18ff7e": {
          "model_module": "jupyter-matplotlib",
          "model_name": "MPLCanvasModel",
          "model_module_version": "^0.11",
          "state": {
            "_cursor": "pointer",
            "_data_url": "data:image/png;base64,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",
            "_dom_classes": [],
            "_figure_label": "Figure 1",
            "_image_mode": "full",
            "_message": "x=−9.95 y=−8.77",
            "_model_module": "jupyter-matplotlib",
            "_model_module_version": "^0.11",
            "_model_name": "MPLCanvasModel",
            "_rubberband_height": 0,
            "_rubberband_width": 0,
            "_rubberband_x": 0,
            "_rubberband_y": 0,
            "_size": [
              432,
              288
            ],
            "_view_count": null,
            "_view_module": "jupyter-matplotlib",
            "_view_module_version": "^0.11",
            "_view_name": "MPLCanvasView",
            "capture_scroll": false,
            "footer_visible": true,
            "header_visible": true,
            "layout": "IPY_MODEL_8ff48e5e350544109b186ba431b682e2",
            "pan_zoom_throttle": 33,
            "resizable": true,
            "toolbar": "IPY_MODEL_5ea32df4a2094a00948512af8ee47cc7",
            "toolbar_position": "left",
            "toolbar_visible": "fade-in-fade-out"
          }
        },
        "8ff48e5e350544109b186ba431b682e2": {
          "model_module": "@jupyter-widgets/base",
          "model_name": "LayoutModel",
          "model_module_version": "1.2.0",
          "state": {
            "_model_module": "@jupyter-widgets/base",
            "_model_module_version": "1.2.0",
            "_model_name": "LayoutModel",
            "_view_count": null,
            "_view_module": "@jupyter-widgets/base",
            "_view_module_version": "1.2.0",
            "_view_name": "LayoutView",
            "align_content": null,
            "align_items": null,
            "align_self": null,
            "border": null,
            "bottom": null,
            "display": null,
            "flex": null,
            "flex_flow": null,
            "grid_area": null,
            "grid_auto_columns": null,
            "grid_auto_flow": null,
            "grid_auto_rows": null,
            "grid_column": null,
            "grid_gap": null,
            "grid_row": null,
            "grid_template_areas": null,
            "grid_template_columns": null,
            "grid_template_rows": null,
            "height": null,
            "justify_content": null,
            "justify_items": null,
            "left": null,
            "margin": null,
            "max_height": null,
            "max_width": null,
            "min_height": null,
            "min_width": null,
            "object_fit": null,
            "object_position": null,
            "order": null,
            "overflow": null,
            "overflow_x": null,
            "overflow_y": null,
            "padding": null,
            "right": null,
            "top": null,
            "visibility": null,
            "width": null
          }
        },
        "5ea32df4a2094a00948512af8ee47cc7": {
          "model_module": "jupyter-matplotlib",
          "model_name": "ToolbarModel",
          "model_module_version": "^0.11",
          "state": {
            "_current_action": "",
            "_dom_classes": [],
            "_model_module": "jupyter-matplotlib",
            "_model_module_version": "^0.11",
            "_model_name": "ToolbarModel",
            "_view_count": null,
            "_view_module": "jupyter-matplotlib",
            "_view_module_version": "^0.11",
            "_view_name": "ToolbarView",
            "button_style": "",
            "collapsed": true,
            "layout": "IPY_MODEL_74ef0bfcafff4bb7a56ad3428a90acc8",
            "orientation": "vertical",
            "toolitems": [
              [
                "Home",
                "Reset original view",
                "home",
                "home"
              ],
              [
                "Back",
                "Back to previous view",
                "arrow-left",
                "back"
              ],
              [
                "Forward",
                "Forward to next view",
                "arrow-right",
                "forward"
              ],
              [
                "Pan",
                "Left button pans, Right button zooms\nx/y fixes axis, CTRL fixes aspect",
                "arrows",
                "pan"
              ],
              [
                "Zoom",
                "Zoom to rectangle\nx/y fixes axis",
                "square-o",
                "zoom"
              ],
              [
                "Download",
                "Download plot",
                "floppy-o",
                "save_figure"
              ]
            ]
          }
        },
        "74ef0bfcafff4bb7a56ad3428a90acc8": {
          "model_module": "@jupyter-widgets/base",
          "model_name": "LayoutModel",
          "model_module_version": "1.2.0",
          "state": {
            "_model_module": "@jupyter-widgets/base",
            "_model_module_version": "1.2.0",
            "_model_name": "LayoutModel",
            "_view_count": null,
            "_view_module": "@jupyter-widgets/base",
            "_view_module_version": "1.2.0",
            "_view_name": "LayoutView",
            "align_content": null,
            "align_items": null,
            "align_self": null,
            "border": null,
            "bottom": null,
            "display": null,
            "flex": null,
            "flex_flow": null,
            "grid_area": null,
            "grid_auto_columns": null,
            "grid_auto_flow": null,
            "grid_auto_rows": null,
            "grid_column": null,
            "grid_gap": null,
            "grid_row": null,
            "grid_template_areas": null,
            "grid_template_columns": null,
            "grid_template_rows": null,
            "height": null,
            "justify_content": null,
            "justify_items": null,
            "left": null,
            "margin": null,
            "max_height": null,
            "max_width": null,
            "min_height": null,
            "min_width": null,
            "object_fit": null,
            "object_position": null,
            "order": null,
            "overflow": null,
            "overflow_x": null,
            "overflow_y": null,
            "padding": null,
            "right": null,
            "top": null,
            "visibility": null,
            "width": null
          }
        }
      }
    }
  },
  "cells": [
    {
      "cell_type": "markdown",
      "metadata": {
        "id": "view-in-github",
        "colab_type": "text"
      },
      "source": [
        "<a href=\"https://colab.research.google.com/github/van-richard/Machine_Learning_Tutorials/blob/main/Introduction_to_Neural_Networks.ipynb\" target=\"_parent\"><img src=\"https://colab.research.google.com/assets/colab-badge.svg\" alt=\"Open In Colab\"/></a>"
      ]
    },
    {
      "cell_type": "code",
      "source": [
        "#@title Overview { display-mode: \"form\" }\n",
        "#@markdown 1. Linear Models\n",
        "#@markdown     -  Linear Regression\n",
        "#@markdown 2. Nonlinear Models\n",
        "#@markdown     - Logistic Regression\n",
        "#@markdown         - Sigmoid Function \n",
        "#@markdown         - Hyperbolic Tangent\n",
        "\n",
        "!pip install mpl_interactions[jupyter] &> /dev/null\n",
        "!pip install \"ipywidgets>=7,<8\" &> /dev/null\n",
        "!wget https://github.com/van-richard/Machine_Learning_Tutorials/raw/main/img.zip\n",
        "!unzip img.zip\n",
        "!rm -r sample_data img.zip\n",
        "\n",
        "from ipywidgets import interact, interactive, fixed, interact_manual\n",
        "import ipywidgets as widgets\n",
        "import numpy as np\n",
        "import seaborn as sns\n",
        "import matplotlib.pyplot as plt\n",
        "\n",
        "print(\"Please restart kernal by:\")\n",
        "print(\"\\t Runtime > Restart Runtime\")"
      ],
      "metadata": {
        "id": "2ZwiSvqNU8_i"
      },
      "execution_count": null,
      "outputs": []
    },
    {
      "cell_type": "code",
      "source": [
        "#@title Linear Regression { display-mode: \"form\" }\n",
        "\n",
        "#@markdown \\begin{equation}\n",
        "#@markdown y = mx + b\n",
        "#@markdown \\tag{1}\n",
        "#@markdown \\end{equation}\n",
        "\n",
        "#@markdown Linear regression assumes a straight line relationship between your input variable, _x_, to your output variable, _y_, where:\n",
        "#@markdown - _m_ represents the slope of your line\n",
        "#@markdown - _x_ represents some input variable\n",
        "#@markdown - _b_ represents a constant which also intersects your y-axis\n",
        "\n",
        "#@markdown As an example, we can plot this function, _m_ is can be a value in [-5,5], while leaving the _b_ as zero (0).\n",
        "\n",
        "%matplotlib ipympl\n",
        "from google.colab import output\n",
        "output.enable_custom_widget_manager()\n",
        "\n",
        "x = np.linspace(-10, 10, 100)\n",
        "\n",
        "def f(x, m, b=0):\n",
        "    return m * x + b\n",
        "\n",
        "fig, ax = plt.subplots()\n",
        "line, = ax.plot(x, f(x, m=1, b=0))\n",
        "\n",
        "def update(m = 1):\n",
        "    line.set_ydata(f(x,m,b=0))\n",
        "    fig.canvas.draw_idle()\n",
        "    \n",
        "interact(update, m = (-5,5,1));\n",
        "\n",
        "# Formating plot\n",
        "ax.set_title('$y = mx + b$')\n",
        "# Move left y-axis and bottim x-axis to centre, passing through (0,0)\n",
        "ax.spines['left'].set_position('zero')\n",
        "ax.spines['bottom'].set_position('zero')\n",
        "# Eliminate upper and right axes\n",
        "ax.spines['right'].set_color('none')\n",
        "ax.spines['top'].set_color('none')\n",
        "\n",
        "\n"
      ],
      "metadata": {
        "colab": {
          "base_uri": "https://localhost:8080/",
          "height": 409,
          "referenced_widgets": [
            "437a88acc6f747b3887058a2b621c3dc",
            "d48ba29fe968440494038e9ab491a860",
            "c4a34ba1f9494b9f97b5e36e33d30925",
            "c32e70637ac8443097d9739b1022c51d",
            "ecec04298fcc4c49879df020fab11188",
            "64f6f974f73543c2a5e54664625bca7a",
            "30a1d00a04404cb082fc66bb0b735445",
            "7819c1129f164400a2949641cb18ff7e",
            "8ff48e5e350544109b186ba431b682e2",
            "5ea32df4a2094a00948512af8ee47cc7",
            "74ef0bfcafff4bb7a56ad3428a90acc8"
          ]
        },
        "id": "i8JO4c3rGTM-",
        "outputId": "14262ba0-a0f2-48ef-819f-bca109c63d50"
      },
      "execution_count": 53,
      "outputs": [
        {
          "output_type": "display_data",
          "data": {
            "text/plain": [
              "interactive(children=(IntSlider(value=1, description='m', max=5, min=-5), Output()), _dom_classes=('widget-int…"
            ],
            "application/vnd.jupyter.widget-view+json": {
              "version_major": 2,
              "version_minor": 0,
              "model_id": "437a88acc6f747b3887058a2b621c3dc"
            }
          },
          "metadata": {
            "application/vnd.jupyter.widget-view+json": {
              "colab": {
                "custom_widget_manager": {
                  "url": "https://ssl.gstatic.com/colaboratory-static/widgets/colab-cdn-widget-manager/d2e234f7cc04bf79/manager.min.js"
                }
              }
            }
          }
        },
        {
          "output_type": "display_data",
          "data": {
            "text/plain": [
              "Canvas(toolbar=Toolbar(toolitems=[('Home', 'Reset original view', 'home', 'home'), ('Back', 'Back to previous …"
            ],
            "image/png": "[encoded data removed]",
            "text/html": [
              "\n",
              "            <div style=\"display: inline-block;\">\n",
              "                <div class=\"jupyter-widgets widget-label\" style=\"text-align: center;\">\n",
              "                    Figure\n",
              "                </div>\n",
              "                <img src='data:image/png;base64,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' width=432.0/>\n",
              "            </div>\n",
              "        "
            ],
            "application/vnd.jupyter.widget-view+json": {
              "version_major": 2,
              "version_minor": 0,
              "model_id": "7819c1129f164400a2949641cb18ff7e"
            }
          },
          "metadata": {
            "application/vnd.jupyter.widget-view+json": {
              "colab": {
                "custom_widget_manager": {
                  "url": "https://ssl.gstatic.com/colaboratory-static/widgets/colab-cdn-widget-manager/d2e234f7cc04bf79/manager.min.js"
                }
              }
            }
          }
        }
      ]
    },
    {
      "cell_type": "markdown",
      "source": [
        "Graphically, this equation, y = 2x, can be shown as our neuron for NN:\n",
        "<br>\n",
        "\n",
        "<p align=\"center\" width=\"100%\">\n",
        "    <img width=\"75%\" src=\"img/y_mx.png\">\n",
        "</p>\n",
        "\n",
        "If we include a value(s) of _b_, we get variations in the y-intersection."
      ],
      "metadata": {
        "id": "IVjlky6R7GfP"
      }
    },
    {
      "cell_type": "code",
      "source": [],
      "metadata": {
        "id": "QAOdxMuUzs3a"
      },
      "execution_count": null,
      "outputs": []
    },
    {
      "cell_type": "code",
      "source": [],
      "metadata": {
        "id": "Hi1fRh033Eto"
      },
      "execution_count": null,
      "outputs": []
    }
  ]
}