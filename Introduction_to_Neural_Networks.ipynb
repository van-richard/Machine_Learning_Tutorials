{
  "nbformat": 4,
  "nbformat_minor": 0,
  "metadata": {
    "colab": {
      "provenance": [],
      "authorship_tag": "ABX9TyOtBGFQ2EtSc9gP8ocsiMaI",
      "include_colab_link": true
    },
    "kernelspec": {
      "name": "python3",
      "display_name": "Python 3"
    },
    "language_info": {
      "name": "python"
    },
    "widgets": {
      "application/vnd.jupyter.widget-state+json": {
        "264d6c169c4c4bfaa5b2d4b32160828e": {
          "model_module": "@jupyter-widgets/controls",
          "model_name": "VBoxModel",
          "model_module_version": "1.5.0",
          "state": {
            "_dom_classes": [
              "widget-interact"
            ],
            "_model_module": "@jupyter-widgets/controls",
            "_model_module_version": "1.5.0",
            "_model_name": "VBoxModel",
            "_view_count": null,
            "_view_module": "@jupyter-widgets/controls",
            "_view_module_version": "1.5.0",
            "_view_name": "VBoxView",
            "box_style": "",
            "children": [
              "IPY_MODEL_f7331c69961e4622a3106da566ba6217",
              "IPY_MODEL_85fe8aa4d61a4fe48aab7b4f805f4d87"
            ],
            "layout": "IPY_MODEL_4ac58cc9e3b846cc8fc630e2848e8d8b"
          }
        },
        "f7331c69961e4622a3106da566ba6217": {
          "model_module": "@jupyter-widgets/controls",
          "model_name": "IntSliderModel",
          "model_module_version": "1.5.0",
          "state": {
            "_dom_classes": [],
            "_model_module": "@jupyter-widgets/controls",
            "_model_module_version": "1.5.0",
            "_model_name": "IntSliderModel",
            "_view_count": null,
            "_view_module": "@jupyter-widgets/controls",
            "_view_module_version": "1.5.0",
            "_view_name": "IntSliderView",
            "continuous_update": true,
            "description": "m",
            "description_tooltip": null,
            "disabled": false,
            "layout": "IPY_MODEL_be740b46516f4f5fbbcbd2a297d017b8",
            "max": 5,
            "min": -5,
            "orientation": "horizontal",
            "readout": true,
            "readout_format": "d",
            "step": 1,
            "style": "IPY_MODEL_0c5016ee6e3448efac418eb07f60faa8",
            "value": 1
          }
        },
        "85fe8aa4d61a4fe48aab7b4f805f4d87": {
          "model_module": "@jupyter-widgets/output",
          "model_name": "OutputModel",
          "model_module_version": "1.0.0",
          "state": {
            "_dom_classes": [],
            "_model_module": "@jupyter-widgets/output",
            "_model_module_version": "1.0.0",
            "_model_name": "OutputModel",
            "_view_count": null,
            "_view_module": "@jupyter-widgets/output",
            "_view_module_version": "1.0.0",
            "_view_name": "OutputView",
            "layout": "IPY_MODEL_7f58bcfee999465485c92be9c529d648",
            "msg_id": "",
            "outputs": []
          }
        },
        "4ac58cc9e3b846cc8fc630e2848e8d8b": {
          "model_module": "@jupyter-widgets/base",
          "model_name": "LayoutModel",
          "model_module_version": "1.2.0",
          "state": {
            "_model_module": "@jupyter-widgets/base",
            "_model_module_version": "1.2.0",
            "_model_name": "LayoutModel",
            "_view_count": null,
            "_view_module": "@jupyter-widgets/base",
            "_view_module_version": "1.2.0",
            "_view_name": "LayoutView",
            "align_content": null,
            "align_items": null,
            "align_self": null,
            "border": null,
            "bottom": null,
            "display": null,
            "flex": null,
            "flex_flow": null,
            "grid_area": null,
            "grid_auto_columns": null,
            "grid_auto_flow": null,
            "grid_auto_rows": null,
            "grid_column": null,
            "grid_gap": null,
            "grid_row": null,
            "grid_template_areas": null,
            "grid_template_columns": null,
            "grid_template_rows": null,
            "height": null,
            "justify_content": null,
            "justify_items": null,
            "left": null,
            "margin": null,
            "max_height": null,
            "max_width": null,
            "min_height": null,
            "min_width": null,
            "object_fit": null,
            "object_position": null,
            "order": null,
            "overflow": null,
            "overflow_x": null,
            "overflow_y": null,
            "padding": null,
            "right": null,
            "top": null,
            "visibility": null,
            "width": null
          }
        },
        "be740b46516f4f5fbbcbd2a297d017b8": {
          "model_module": "@jupyter-widgets/base",
          "model_name": "LayoutModel",
          "model_module_version": "1.2.0",
          "state": {
            "_model_module": "@jupyter-widgets/base",
            "_model_module_version": "1.2.0",
            "_model_name": "LayoutModel",
            "_view_count": null,
            "_view_module": "@jupyter-widgets/base",
            "_view_module_version": "1.2.0",
            "_view_name": "LayoutView",
            "align_content": null,
            "align_items": null,
            "align_self": null,
            "border": null,
            "bottom": null,
            "display": null,
            "flex": null,
            "flex_flow": null,
            "grid_area": null,
            "grid_auto_columns": null,
            "grid_auto_flow": null,
            "grid_auto_rows": null,
            "grid_column": null,
            "grid_gap": null,
            "grid_row": null,
            "grid_template_areas": null,
            "grid_template_columns": null,
            "grid_template_rows": null,
            "height": null,
            "justify_content": null,
            "justify_items": null,
            "left": null,
            "margin": null,
            "max_height": null,
            "max_width": null,
            "min_height": null,
            "min_width": null,
            "object_fit": null,
            "object_position": null,
            "order": null,
            "overflow": null,
            "overflow_x": null,
            "overflow_y": null,
            "padding": null,
            "right": null,
            "top": null,
            "visibility": null,
            "width": null
          }
        },
        "0c5016ee6e3448efac418eb07f60faa8": {
          "model_module": "@jupyter-widgets/controls",
          "model_name": "SliderStyleModel",
          "model_module_version": "1.5.0",
          "state": {
            "_model_module": "@jupyter-widgets/controls",
            "_model_module_version": "1.5.0",
            "_model_name": "SliderStyleModel",
            "_view_count": null,
            "_view_module": "@jupyter-widgets/base",
            "_view_module_version": "1.2.0",
            "_view_name": "StyleView",
            "description_width": "",
            "handle_color": null
          }
        },
        "7f58bcfee999465485c92be9c529d648": {
          "model_module": "@jupyter-widgets/base",
          "model_name": "LayoutModel",
          "model_module_version": "1.2.0",
          "state": {
            "_model_module": "@jupyter-widgets/base",
            "_model_module_version": "1.2.0",
            "_model_name": "LayoutModel",
            "_view_count": null,
            "_view_module": "@jupyter-widgets/base",
            "_view_module_version": "1.2.0",
            "_view_name": "LayoutView",
            "align_content": null,
            "align_items": null,
            "align_self": null,
            "border": null,
            "bottom": null,
            "display": null,
            "flex": null,
            "flex_flow": null,
            "grid_area": null,
            "grid_auto_columns": null,
            "grid_auto_flow": null,
            "grid_auto_rows": null,
            "grid_column": null,
            "grid_gap": null,
            "grid_row": null,
            "grid_template_areas": null,
            "grid_template_columns": null,
            "grid_template_rows": null,
            "height": null,
            "justify_content": null,
            "justify_items": null,
            "left": null,
            "margin": null,
            "max_height": null,
            "max_width": null,
            "min_height": null,
            "min_width": null,
            "object_fit": null,
            "object_position": null,
            "order": null,
            "overflow": null,
            "overflow_x": null,
            "overflow_y": null,
            "padding": null,
            "right": null,
            "top": null,
            "visibility": null,
            "width": null
          }
        },
        "cfb9e58342a643a8a195f252915d3958": {
          "model_module": "@jupyter-widgets/base",
          "model_name": "LayoutModel",
          "model_module_version": "1.2.0",
          "state": {
            "_model_module": "@jupyter-widgets/base",
            "_model_module_version": "1.2.0",
            "_model_name": "LayoutModel",
            "_view_count": null,
            "_view_module": "@jupyter-widgets/base",
            "_view_module_version": "1.2.0",
            "_view_name": "LayoutView",
            "align_content": null,
            "align_items": null,
            "align_self": null,
            "border": null,
            "bottom": null,
            "display": null,
            "flex": null,
            "flex_flow": null,
            "grid_area": null,
            "grid_auto_columns": null,
            "grid_auto_flow": null,
            "grid_auto_rows": null,
            "grid_column": null,
            "grid_gap": null,
            "grid_row": null,
            "grid_template_areas": null,
            "grid_template_columns": null,
            "grid_template_rows": null,
            "height": null,
            "justify_content": null,
            "justify_items": null,
            "left": null,
            "margin": null,
            "max_height": null,
            "max_width": null,
            "min_height": null,
            "min_width": null,
            "object_fit": null,
            "object_position": null,
            "order": null,
            "overflow": null,
            "overflow_x": null,
            "overflow_y": null,
            "padding": null,
            "right": null,
            "top": null,
            "visibility": null,
            "width": null
          }
        },
        "ab3fdb3a07914503a784097bee98a4e6": {
          "model_module": "@jupyter-widgets/base",
          "model_name": "LayoutModel",
          "model_module_version": "1.2.0",
          "state": {
            "_model_module": "@jupyter-widgets/base",
            "_model_module_version": "1.2.0",
            "_model_name": "LayoutModel",
            "_view_count": null,
            "_view_module": "@jupyter-widgets/base",
            "_view_module_version": "1.2.0",
            "_view_name": "LayoutView",
            "align_content": null,
            "align_items": null,
            "align_self": null,
            "border": null,
            "bottom": null,
            "display": null,
            "flex": null,
            "flex_flow": null,
            "grid_area": null,
            "grid_auto_columns": null,
            "grid_auto_flow": null,
            "grid_auto_rows": null,
            "grid_column": null,
            "grid_gap": null,
            "grid_row": null,
            "grid_template_areas": null,
            "grid_template_columns": null,
            "grid_template_rows": null,
            "height": null,
            "justify_content": null,
            "justify_items": null,
            "left": null,
            "margin": null,
            "max_height": null,
            "max_width": null,
            "min_height": null,
            "min_width": null,
            "object_fit": null,
            "object_position": null,
            "order": null,
            "overflow": null,
            "overflow_x": null,
            "overflow_y": null,
            "padding": null,
            "right": null,
            "top": null,
            "visibility": null,
            "width": null
          }
        },
        "23eaccf0612445a8a720f57fe840641d": {
          "model_module": "@jupyter-widgets/base",
          "model_name": "LayoutModel",
          "model_module_version": "1.2.0",
          "state": {
            "_model_module": "@jupyter-widgets/base",
            "_model_module_version": "1.2.0",
            "_model_name": "LayoutModel",
            "_view_count": null,
            "_view_module": "@jupyter-widgets/base",
            "_view_module_version": "1.2.0",
            "_view_name": "LayoutView",
            "align_content": null,
            "align_items": null,
            "align_self": null,
            "border": null,
            "bottom": null,
            "display": null,
            "flex": null,
            "flex_flow": null,
            "grid_area": null,
            "grid_auto_columns": null,
            "grid_auto_flow": null,
            "grid_auto_rows": null,
            "grid_column": null,
            "grid_gap": null,
            "grid_row": null,
            "grid_template_areas": null,
            "grid_template_columns": null,
            "grid_template_rows": null,
            "height": null,
            "justify_content": null,
            "justify_items": null,
            "left": null,
            "margin": null,
            "max_height": null,
            "max_width": null,
            "min_height": null,
            "min_width": null,
            "object_fit": null,
            "object_position": null,
            "order": null,
            "overflow": null,
            "overflow_x": null,
            "overflow_y": null,
            "padding": null,
            "right": null,
            "top": null,
            "visibility": null,
            "width": null
          }
        },
        "5171639e02f84f0a8a936617c9e3a3d8": {
          "model_module": "jupyter-matplotlib",
          "model_name": "ToolbarModel",
          "model_module_version": "^0.11",
          "state": {
            "_current_action": "",
            "_dom_classes": [],
            "_model_module": "jupyter-matplotlib",
            "_model_module_version": "^0.11",
            "_model_name": "ToolbarModel",
            "_view_count": null,
            "_view_module": "jupyter-matplotlib",
            "_view_module_version": "^0.11",
            "_view_name": "ToolbarView",
            "button_style": "",
            "collapsed": true,
            "layout": "IPY_MODEL_ab3fdb3a07914503a784097bee98a4e6",
            "orientation": "vertical",
            "toolitems": [
              [
                "Home",
                "Reset original view",
                "home",
                "home"
              ],
              [
                "Back",
                "Back to previous view",
                "arrow-left",
                "back"
              ],
              [
                "Forward",
                "Forward to next view",
                "arrow-right",
                "forward"
              ],
              [
                "Pan",
                "Left button pans, Right button zooms\nx/y fixes axis, CTRL fixes aspect",
                "arrows",
                "pan"
              ],
              [
                "Zoom",
                "Zoom to rectangle\nx/y fixes axis",
                "square-o",
                "zoom"
              ],
              [
                "Download",
                "Download plot",
                "floppy-o",
                "save_figure"
              ]
            ]
          }
        },
        "b3b234e5fcdf44e999a183e691670241": {
          "model_module": "jupyter-matplotlib",
          "model_name": "ToolbarModel",
          "model_module_version": "^0.11",
          "state": {
            "_current_action": "",
            "_dom_classes": [],
            "_model_module": "jupyter-matplotlib",
            "_model_module_version": "^0.11",
            "_model_name": "ToolbarModel",
            "_view_count": null,
            "_view_module": "jupyter-matplotlib",
            "_view_module_version": "^0.11",
            "_view_name": "ToolbarView",
            "button_style": "",
            "collapsed": true,
            "layout": "IPY_MODEL_23eaccf0612445a8a720f57fe840641d",
            "orientation": "vertical",
            "toolitems": [
              [
                "Home",
                "Reset original view",
                "home",
                "home"
              ],
              [
                "Back",
                "Back to previous view",
                "arrow-left",
                "back"
              ],
              [
                "Forward",
                "Forward to next view",
                "arrow-right",
                "forward"
              ],
              [
                "Pan",
                "Left button pans, Right button zooms\nx/y fixes axis, CTRL fixes aspect",
                "arrows",
                "pan"
              ],
              [
                "Zoom",
                "Zoom to rectangle\nx/y fixes axis",
                "square-o",
                "zoom"
              ],
              [
                "Download",
                "Download plot",
                "floppy-o",
                "save_figure"
              ]
            ]
          }
        },
        "ae7b2066daea4795af36db69949ef751": {
          "model_module": "jupyter-matplotlib",
          "model_name": "MPLCanvasModel",
          "model_module_version": "^0.11",
          "state": {
            "_cursor": "pointer",
            "_data_url": "data:image/png;base64,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",
            "_dom_classes": [],
            "_figure_label": "Figure 1",
            "_image_mode": "full",
            "_message": "",
            "_model_module": "jupyter-matplotlib",
            "_model_module_version": "^0.11",
            "_model_name": "MPLCanvasModel",
            "_rubberband_height": 0,
            "_rubberband_width": 0,
            "_rubberband_x": 0,
            "_rubberband_y": 0,
            "_size": [
              432,
              288
            ],
            "_view_count": null,
            "_view_module": "jupyter-matplotlib",
            "_view_module_version": "^0.11",
            "_view_name": "MPLCanvasView",
            "capture_scroll": false,
            "footer_visible": true,
            "header_visible": true,
            "layout": "IPY_MODEL_cfb9e58342a643a8a195f252915d3958",
            "pan_zoom_throttle": 33,
            "resizable": true,
            "toolbar": "IPY_MODEL_b3b234e5fcdf44e999a183e691670241",
            "toolbar_position": "left",
            "toolbar_visible": "fade-in-fade-out"
          }
        },
        "8f834ddb0dc143fa89e68c3a812a2f02": {
          "model_module": "@jupyter-widgets/controls",
          "model_name": "VBoxModel",
          "model_module_version": "1.5.0",
          "state": {
            "_dom_classes": [
              "widget-interact"
            ],
            "_model_module": "@jupyter-widgets/controls",
            "_model_module_version": "1.5.0",
            "_model_name": "VBoxModel",
            "_view_count": null,
            "_view_module": "@jupyter-widgets/controls",
            "_view_module_version": "1.5.0",
            "_view_name": "VBoxView",
            "box_style": "",
            "children": [
              "IPY_MODEL_43b25eae2c404d60a2196aa264fafe93",
              "IPY_MODEL_369a189d5e4b43ea9fa01c4c33d21f18",
              "IPY_MODEL_c51f9f00692445499f75d53ff9dc4206"
            ],
            "layout": "IPY_MODEL_119272aa056049b093dc7afa378a0319"
          }
        },
        "43b25eae2c404d60a2196aa264fafe93": {
          "model_module": "@jupyter-widgets/controls",
          "model_name": "IntSliderModel",
          "model_module_version": "1.5.0",
          "state": {
            "_dom_classes": [],
            "_model_module": "@jupyter-widgets/controls",
            "_model_module_version": "1.5.0",
            "_model_name": "IntSliderModel",
            "_view_count": null,
            "_view_module": "@jupyter-widgets/controls",
            "_view_module_version": "1.5.0",
            "_view_name": "IntSliderView",
            "continuous_update": true,
            "description": "m",
            "description_tooltip": null,
            "disabled": false,
            "layout": "IPY_MODEL_808af20210824536a117f92d3b9bdde0",
            "max": 5,
            "min": -5,
            "orientation": "horizontal",
            "readout": true,
            "readout_format": "d",
            "step": 1,
            "style": "IPY_MODEL_080e2c14ea494ddcb120e1335247477a",
            "value": 1
          }
        },
        "369a189d5e4b43ea9fa01c4c33d21f18": {
          "model_module": "@jupyter-widgets/controls",
          "model_name": "IntSliderModel",
          "model_module_version": "1.5.0",
          "state": {
            "_dom_classes": [],
            "_model_module": "@jupyter-widgets/controls",
            "_model_module_version": "1.5.0",
            "_model_name": "IntSliderModel",
            "_view_count": null,
            "_view_module": "@jupyter-widgets/controls",
            "_view_module_version": "1.5.0",
            "_view_name": "IntSliderView",
            "continuous_update": true,
            "description": "b",
            "description_tooltip": null,
            "disabled": false,
            "layout": "IPY_MODEL_0a30ca0d6d3e44499d3c212603194b7d",
            "max": 5,
            "min": -5,
            "orientation": "horizontal",
            "readout": true,
            "readout_format": "d",
            "step": 1,
            "style": "IPY_MODEL_8f2f6e7ab704422e805bac8a0d10bee7",
            "value": 0
          }
        },
        "c51f9f00692445499f75d53ff9dc4206": {
          "model_module": "@jupyter-widgets/output",
          "model_name": "OutputModel",
          "model_module_version": "1.0.0",
          "state": {
            "_dom_classes": [],
            "_model_module": "@jupyter-widgets/output",
            "_model_module_version": "1.0.0",
            "_model_name": "OutputModel",
            "_view_count": null,
            "_view_module": "@jupyter-widgets/output",
            "_view_module_version": "1.0.0",
            "_view_name": "OutputView",
            "layout": "IPY_MODEL_67015d5e8dba4e2cb9d91bca62098a27",
            "msg_id": "",
            "outputs": []
          }
        },
        "119272aa056049b093dc7afa378a0319": {
          "model_module": "@jupyter-widgets/base",
          "model_name": "LayoutModel",
          "model_module_version": "1.2.0",
          "state": {
            "_model_module": "@jupyter-widgets/base",
            "_model_module_version": "1.2.0",
            "_model_name": "LayoutModel",
            "_view_count": null,
            "_view_module": "@jupyter-widgets/base",
            "_view_module_version": "1.2.0",
            "_view_name": "LayoutView",
            "align_content": null,
            "align_items": null,
            "align_self": null,
            "border": null,
            "bottom": null,
            "display": null,
            "flex": null,
            "flex_flow": null,
            "grid_area": null,
            "grid_auto_columns": null,
            "grid_auto_flow": null,
            "grid_auto_rows": null,
            "grid_column": null,
            "grid_gap": null,
            "grid_row": null,
            "grid_template_areas": null,
            "grid_template_columns": null,
            "grid_template_rows": null,
            "height": null,
            "justify_content": null,
            "justify_items": null,
            "left": null,
            "margin": null,
            "max_height": null,
            "max_width": null,
            "min_height": null,
            "min_width": null,
            "object_fit": null,
            "object_position": null,
            "order": null,
            "overflow": null,
            "overflow_x": null,
            "overflow_y": null,
            "padding": null,
            "right": null,
            "top": null,
            "visibility": null,
            "width": null
          }
        },
        "808af20210824536a117f92d3b9bdde0": {
          "model_module": "@jupyter-widgets/base",
          "model_name": "LayoutModel",
          "model_module_version": "1.2.0",
          "state": {
            "_model_module": "@jupyter-widgets/base",
            "_model_module_version": "1.2.0",
            "_model_name": "LayoutModel",
            "_view_count": null,
            "_view_module": "@jupyter-widgets/base",
            "_view_module_version": "1.2.0",
            "_view_name": "LayoutView",
            "align_content": null,
            "align_items": null,
            "align_self": null,
            "border": null,
            "bottom": null,
            "display": null,
            "flex": null,
            "flex_flow": null,
            "grid_area": null,
            "grid_auto_columns": null,
            "grid_auto_flow": null,
            "grid_auto_rows": null,
            "grid_column": null,
            "grid_gap": null,
            "grid_row": null,
            "grid_template_areas": null,
            "grid_template_columns": null,
            "grid_template_rows": null,
            "height": null,
            "justify_content": null,
            "justify_items": null,
            "left": null,
            "margin": null,
            "max_height": null,
            "max_width": null,
            "min_height": null,
            "min_width": null,
            "object_fit": null,
            "object_position": null,
            "order": null,
            "overflow": null,
            "overflow_x": null,
            "overflow_y": null,
            "padding": null,
            "right": null,
            "top": null,
            "visibility": null,
            "width": null
          }
        },
        "080e2c14ea494ddcb120e1335247477a": {
          "model_module": "@jupyter-widgets/controls",
          "model_name": "SliderStyleModel",
          "model_module_version": "1.5.0",
          "state": {
            "_model_module": "@jupyter-widgets/controls",
            "_model_module_version": "1.5.0",
            "_model_name": "SliderStyleModel",
            "_view_count": null,
            "_view_module": "@jupyter-widgets/base",
            "_view_module_version": "1.2.0",
            "_view_name": "StyleView",
            "description_width": "",
            "handle_color": null
          }
        },
        "0a30ca0d6d3e44499d3c212603194b7d": {
          "model_module": "@jupyter-widgets/base",
          "model_name": "LayoutModel",
          "model_module_version": "1.2.0",
          "state": {
            "_model_module": "@jupyter-widgets/base",
            "_model_module_version": "1.2.0",
            "_model_name": "LayoutModel",
            "_view_count": null,
            "_view_module": "@jupyter-widgets/base",
            "_view_module_version": "1.2.0",
            "_view_name": "LayoutView",
            "align_content": null,
            "align_items": null,
            "align_self": null,
            "border": null,
            "bottom": null,
            "display": null,
            "flex": null,
            "flex_flow": null,
            "grid_area": null,
            "grid_auto_columns": null,
            "grid_auto_flow": null,
            "grid_auto_rows": null,
            "grid_column": null,
            "grid_gap": null,
            "grid_row": null,
            "grid_template_areas": null,
            "grid_template_columns": null,
            "grid_template_rows": null,
            "height": null,
            "justify_content": null,
            "justify_items": null,
            "left": null,
            "margin": null,
            "max_height": null,
            "max_width": null,
            "min_height": null,
            "min_width": null,
            "object_fit": null,
            "object_position": null,
            "order": null,
            "overflow": null,
            "overflow_x": null,
            "overflow_y": null,
            "padding": null,
            "right": null,
            "top": null,
            "visibility": null,
            "width": null
          }
        },
        "8f2f6e7ab704422e805bac8a0d10bee7": {
          "model_module": "@jupyter-widgets/controls",
          "model_name": "SliderStyleModel",
          "model_module_version": "1.5.0",
          "state": {
            "_model_module": "@jupyter-widgets/controls",
            "_model_module_version": "1.5.0",
            "_model_name": "SliderStyleModel",
            "_view_count": null,
            "_view_module": "@jupyter-widgets/base",
            "_view_module_version": "1.2.0",
            "_view_name": "StyleView",
            "description_width": "",
            "handle_color": null
          }
        },
        "67015d5e8dba4e2cb9d91bca62098a27": {
          "model_module": "@jupyter-widgets/base",
          "model_name": "LayoutModel",
          "model_module_version": "1.2.0",
          "state": {
            "_model_module": "@jupyter-widgets/base",
            "_model_module_version": "1.2.0",
            "_model_name": "LayoutModel",
            "_view_count": null,
            "_view_module": "@jupyter-widgets/base",
            "_view_module_version": "1.2.0",
            "_view_name": "LayoutView",
            "align_content": null,
            "align_items": null,
            "align_self": null,
            "border": null,
            "bottom": null,
            "display": null,
            "flex": null,
            "flex_flow": null,
            "grid_area": null,
            "grid_auto_columns": null,
            "grid_auto_flow": null,
            "grid_auto_rows": null,
            "grid_column": null,
            "grid_gap": null,
            "grid_row": null,
            "grid_template_areas": null,
            "grid_template_columns": null,
            "grid_template_rows": null,
            "height": null,
            "justify_content": null,
            "justify_items": null,
            "left": null,
            "margin": null,
            "max_height": null,
            "max_width": null,
            "min_height": null,
            "min_width": null,
            "object_fit": null,
            "object_position": null,
            "order": null,
            "overflow": null,
            "overflow_x": null,
            "overflow_y": null,
            "padding": null,
            "right": null,
            "top": null,
            "visibility": null,
            "width": null
          }
        },
        "4bebcbc079f44e7f88463bc8380cb378": {
          "model_module": "jupyter-matplotlib",
          "model_name": "MPLCanvasModel",
          "model_module_version": "^0.11",
          "state": {
            "_cursor": "pointer",
            "_data_url": "data:image/png;base64,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",
            "_dom_classes": [],
            "_figure_label": "Figure 1",
            "_image_mode": "full",
            "_message": "",
            "_model_module": "jupyter-matplotlib",
            "_model_module_version": "^0.11",
            "_model_name": "MPLCanvasModel",
            "_rubberband_height": 0,
            "_rubberband_width": 0,
            "_rubberband_x": 0,
            "_rubberband_y": 0,
            "_size": [
              432,
              288
            ],
            "_view_count": null,
            "_view_module": "jupyter-matplotlib",
            "_view_module_version": "^0.11",
            "_view_name": "MPLCanvasView",
            "capture_scroll": false,
            "footer_visible": true,
            "header_visible": true,
            "layout": "IPY_MODEL_8747fa7c695f4566b7efbfdbd40cccb0",
            "pan_zoom_throttle": 33,
            "resizable": true,
            "toolbar": "IPY_MODEL_755b4ae503cd46af9a170ae2461d31f5",
            "toolbar_position": "left",
            "toolbar_visible": "fade-in-fade-out"
          }
        },
        "8747fa7c695f4566b7efbfdbd40cccb0": {
          "model_module": "@jupyter-widgets/base",
          "model_name": "LayoutModel",
          "model_module_version": "1.2.0",
          "state": {
            "_model_module": "@jupyter-widgets/base",
            "_model_module_version": "1.2.0",
            "_model_name": "LayoutModel",
            "_view_count": null,
            "_view_module": "@jupyter-widgets/base",
            "_view_module_version": "1.2.0",
            "_view_name": "LayoutView",
            "align_content": null,
            "align_items": null,
            "align_self": null,
            "border": null,
            "bottom": null,
            "display": null,
            "flex": null,
            "flex_flow": null,
            "grid_area": null,
            "grid_auto_columns": null,
            "grid_auto_flow": null,
            "grid_auto_rows": null,
            "grid_column": null,
            "grid_gap": null,
            "grid_row": null,
            "grid_template_areas": null,
            "grid_template_columns": null,
            "grid_template_rows": null,
            "height": null,
            "justify_content": null,
            "justify_items": null,
            "left": null,
            "margin": null,
            "max_height": null,
            "max_width": null,
            "min_height": null,
            "min_width": null,
            "object_fit": null,
            "object_position": null,
            "order": null,
            "overflow": null,
            "overflow_x": null,
            "overflow_y": null,
            "padding": null,
            "right": null,
            "top": null,
            "visibility": null,
            "width": null
          }
        },
        "755b4ae503cd46af9a170ae2461d31f5": {
          "model_module": "jupyter-matplotlib",
          "model_name": "ToolbarModel",
          "model_module_version": "^0.11",
          "state": {
            "_current_action": "",
            "_dom_classes": [],
            "_model_module": "jupyter-matplotlib",
            "_model_module_version": "^0.11",
            "_model_name": "ToolbarModel",
            "_view_count": null,
            "_view_module": "jupyter-matplotlib",
            "_view_module_version": "^0.11",
            "_view_name": "ToolbarView",
            "button_style": "",
            "collapsed": true,
            "layout": "IPY_MODEL_8ac22424451542fc9f281d980bab8dc7",
            "orientation": "vertical",
            "toolitems": [
              [
                "Home",
                "Reset original view",
                "home",
                "home"
              ],
              [
                "Back",
                "Back to previous view",
                "arrow-left",
                "back"
              ],
              [
                "Forward",
                "Forward to next view",
                "arrow-right",
                "forward"
              ],
              [
                "Pan",
                "Left button pans, Right button zooms\nx/y fixes axis, CTRL fixes aspect",
                "arrows",
                "pan"
              ],
              [
                "Zoom",
                "Zoom to rectangle\nx/y fixes axis",
                "square-o",
                "zoom"
              ],
              [
                "Download",
                "Download plot",
                "floppy-o",
                "save_figure"
              ]
            ]
          }
        },
        "8ac22424451542fc9f281d980bab8dc7": {
          "model_module": "@jupyter-widgets/base",
          "model_name": "LayoutModel",
          "model_module_version": "1.2.0",
          "state": {
            "_model_module": "@jupyter-widgets/base",
            "_model_module_version": "1.2.0",
            "_model_name": "LayoutModel",
            "_view_count": null,
            "_view_module": "@jupyter-widgets/base",
            "_view_module_version": "1.2.0",
            "_view_name": "LayoutView",
            "align_content": null,
            "align_items": null,
            "align_self": null,
            "border": null,
            "bottom": null,
            "display": null,
            "flex": null,
            "flex_flow": null,
            "grid_area": null,
            "grid_auto_columns": null,
            "grid_auto_flow": null,
            "grid_auto_rows": null,
            "grid_column": null,
            "grid_gap": null,
            "grid_row": null,
            "grid_template_areas": null,
            "grid_template_columns": null,
            "grid_template_rows": null,
            "height": null,
            "justify_content": null,
            "justify_items": null,
            "left": null,
            "margin": null,
            "max_height": null,
            "max_width": null,
            "min_height": null,
            "min_width": null,
            "object_fit": null,
            "object_position": null,
            "order": null,
            "overflow": null,
            "overflow_x": null,
            "overflow_y": null,
            "padding": null,
            "right": null,
            "top": null,
            "visibility": null,
            "width": null
          }
        },
        "46413ef49ba6419d9684c28d13efbad3": {
          "model_module": "jupyter-matplotlib",
          "model_name": "MPLCanvasModel",
          "model_module_version": "^0.11",
          "state": {
            "_cursor": "default",
            "_data_url": "data:image/png;base64,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",
            "_dom_classes": [],
            "_figure_label": "Figure 1",
            "_image_mode": "full",
            "_message": "",
            "_model_module": "jupyter-matplotlib",
            "_model_module_version": "^0.11",
            "_model_name": "MPLCanvasModel",
            "_rubberband_height": 0,
            "_rubberband_width": 0,
            "_rubberband_x": 0,
            "_rubberband_y": 0,
            "_size": [
              432,
              288
            ],
            "_view_count": null,
            "_view_module": "jupyter-matplotlib",
            "_view_module_version": "^0.11",
            "_view_name": "MPLCanvasView",
            "capture_scroll": false,
            "footer_visible": true,
            "header_visible": true,
            "layout": "IPY_MODEL_e671b0d9df5246a1b0bc7b36b12440ee",
            "pan_zoom_throttle": 33,
            "resizable": true,
            "toolbar": "IPY_MODEL_9d53782d279943438c35516bbdb4e8a0",
            "toolbar_position": "left",
            "toolbar_visible": "fade-in-fade-out"
          }
        },
        "e671b0d9df5246a1b0bc7b36b12440ee": {
          "model_module": "@jupyter-widgets/base",
          "model_name": "LayoutModel",
          "model_module_version": "1.2.0",
          "state": {
            "_model_module": "@jupyter-widgets/base",
            "_model_module_version": "1.2.0",
            "_model_name": "LayoutModel",
            "_view_count": null,
            "_view_module": "@jupyter-widgets/base",
            "_view_module_version": "1.2.0",
            "_view_name": "LayoutView",
            "align_content": null,
            "align_items": null,
            "align_self": null,
            "border": null,
            "bottom": null,
            "display": null,
            "flex": null,
            "flex_flow": null,
            "grid_area": null,
            "grid_auto_columns": null,
            "grid_auto_flow": null,
            "grid_auto_rows": null,
            "grid_column": null,
            "grid_gap": null,
            "grid_row": null,
            "grid_template_areas": null,
            "grid_template_columns": null,
            "grid_template_rows": null,
            "height": null,
            "justify_content": null,
            "justify_items": null,
            "left": null,
            "margin": null,
            "max_height": null,
            "max_width": null,
            "min_height": null,
            "min_width": null,
            "object_fit": null,
            "object_position": null,
            "order": null,
            "overflow": null,
            "overflow_x": null,
            "overflow_y": null,
            "padding": null,
            "right": null,
            "top": null,
            "visibility": null,
            "width": null
          }
        },
        "9d53782d279943438c35516bbdb4e8a0": {
          "model_module": "jupyter-matplotlib",
          "model_name": "ToolbarModel",
          "model_module_version": "^0.11",
          "state": {
            "_current_action": "",
            "_dom_classes": [],
            "_model_module": "jupyter-matplotlib",
            "_model_module_version": "^0.11",
            "_model_name": "ToolbarModel",
            "_view_count": null,
            "_view_module": "jupyter-matplotlib",
            "_view_module_version": "^0.11",
            "_view_name": "ToolbarView",
            "button_style": "",
            "collapsed": true,
            "layout": "IPY_MODEL_3e80a582973c47cf8cad1c2649dcf28c",
            "orientation": "vertical",
            "toolitems": [
              [
                "Home",
                "Reset original view",
                "home",
                "home"
              ],
              [
                "Back",
                "Back to previous view",
                "arrow-left",
                "back"
              ],
              [
                "Forward",
                "Forward to next view",
                "arrow-right",
                "forward"
              ],
              [
                "Pan",
                "Left button pans, Right button zooms\nx/y fixes axis, CTRL fixes aspect",
                "arrows",
                "pan"
              ],
              [
                "Zoom",
                "Zoom to rectangle\nx/y fixes axis",
                "square-o",
                "zoom"
              ],
              [
                "Download",
                "Download plot",
                "floppy-o",
                "save_figure"
              ]
            ]
          }
        },
        "3e80a582973c47cf8cad1c2649dcf28c": {
          "model_module": "@jupyter-widgets/base",
          "model_name": "LayoutModel",
          "model_module_version": "1.2.0",
          "state": {
            "_model_module": "@jupyter-widgets/base",
            "_model_module_version": "1.2.0",
            "_model_name": "LayoutModel",
            "_view_count": null,
            "_view_module": "@jupyter-widgets/base",
            "_view_module_version": "1.2.0",
            "_view_name": "LayoutView",
            "align_content": null,
            "align_items": null,
            "align_self": null,
            "border": null,
            "bottom": null,
            "display": null,
            "flex": null,
            "flex_flow": null,
            "grid_area": null,
            "grid_auto_columns": null,
            "grid_auto_flow": null,
            "grid_auto_rows": null,
            "grid_column": null,
            "grid_gap": null,
            "grid_row": null,
            "grid_template_areas": null,
            "grid_template_columns": null,
            "grid_template_rows": null,
            "height": null,
            "justify_content": null,
            "justify_items": null,
            "left": null,
            "margin": null,
            "max_height": null,
            "max_width": null,
            "min_height": null,
            "min_width": null,
            "object_fit": null,
            "object_position": null,
            "order": null,
            "overflow": null,
            "overflow_x": null,
            "overflow_y": null,
            "padding": null,
            "right": null,
            "top": null,
            "visibility": null,
            "width": null
          }
        }
      }
    }
  },
  "cells": [
    {
      "cell_type": "markdown",
      "metadata": {
        "id": "view-in-github",
        "colab_type": "text"
      },
      "source": [
        "<a href=\"https://colab.research.google.com/github/van-richard/Machine_Learning_Tutorials/blob/main/Introduction_to_Neural_Networks.ipynb\" target=\"_parent\"><img src=\"https://colab.research.google.com/assets/colab-badge.svg\" alt=\"Open In Colab\"/></a>"
      ]
    },
    {
      "cell_type": "code",
      "source": [
        "#@title Overview { display-mode: \"form\" }\n",
        "#@markdown 1. Linear Models\n",
        "#@markdown  - Linear Regression\n",
        "#@markdown 2. Nonlinear Models\n",
        "#@markdown  - Sigmoid Function \n",
        "#@markdown  - Hyperbolic Tangent\n",
        "\n",
        "!pip install mpl_interactions[jupyter] &> /dev/null\n",
        "!pip install \"ipywidgets>=7,<8\" &> /dev/null\n",
        "exit()\n",
        "print('After you run this cell, the kernal will restart. You can move on to the next cell!')"
      ],
      "metadata": {
        "id": "2ZwiSvqNU8_i",
        "colab": {
          "base_uri": "https://localhost:8080/"
        },
        "outputId": "062b760e-5429-4743-98e2-4fbb77d7bbbd"
      },
      "execution_count": 1,
      "outputs": [
        {
          "output_type": "stream",
          "name": "stdout",
          "text": [
            "After you run this cell, the kernal will restart. You can move on to the next cell!\n"
          ]
        }
      ]
    },
    {
      "cell_type": "code",
      "source": [
        "#@title Install dependencies { display-mode: \"form\" }\n",
        "!rm -r sample_data\n",
        "from ipywidgets import interact, interactive, fixed, interact_manual\n",
        "import ipywidgets as widgets\n",
        "import numpy as np\n",
        "import seaborn as sns\n",
        "import matplotlib.pyplot as plt"
      ],
      "metadata": {
        "id": "PjPKpTpvC0Lj"
      },
      "execution_count": 1,
      "outputs": []
    },
    {
      "cell_type": "markdown",
      "source": [
        "# Neural Network Schematic\n",
        "\n",
        "<p align=\"center\"><img src=\"https://github.com/van-richard/Machine_Learning_Tutorials/raw/main/img/basic-neutral-network.png\"\n",
        "     style=\"float: left; margin-right: 10px;\"\n",
        "     img width=\"100%\" /></p>"
      ],
      "metadata": {
        "id": "ORYkPjVVGMh4"
      }
    },
    {
      "cell_type": "code",
      "source": [
        "#@title Linear Regression { display-mode: \"form\" }\n",
        "\n",
        "#@markdown \\begin{equation}\n",
        "#@markdown y = mx + b\n",
        "#@markdown \\tag{1}\n",
        "#@markdown \\end{equation}\n",
        "\n",
        "#@markdown Linear regression assumes a straight line relationship between your input variable, _x_, to your output variable, _y_, where:\n",
        "#@markdown - _m_ represents the slope of your line\n",
        "#@markdown - _x_ represents some input variable\n",
        "#@markdown - _b_ represents a constant which also intersects your y-axis\n",
        "\n",
        "#@markdown As an example, we can plot this function, _m_ is can be a value in [-5,5], while leaving the _b_ as zero (0).\n",
        "\n",
        "%matplotlib ipympl\n",
        "from google.colab import output\n",
        "output.enable_custom_widget_manager()\n",
        "\n",
        "x = np.linspace(-10, 10, 100)\n",
        "\n",
        "def f(x, m, b=0):\n",
        "    return m * x + b\n",
        "\n",
        "fig, ax = plt.subplots()\n",
        "line, = ax.plot(x, f(x, m=1, b=0))\n",
        "\n",
        "def update(m = 1):\n",
        "    line.set_ydata(f(x,m,b=0))\n",
        "    fig.canvas.draw_idle()\n",
        "    \n",
        "interact(update, m = (-5,5,1));\n",
        "\n",
        "# Formating plot\n",
        "ax.set_title('$y = mx + b$')\n",
        "# Move left y-axis and bottim x-axis to centre, passing through (0,0)\n",
        "ax.spines['left'].set_position('zero')\n",
        "ax.spines['bottom'].set_position('zero')\n",
        "# Eliminate upper and right axes\n",
        "ax.spines['right'].set_color('none')\n",
        "ax.spines['top'].set_color('none')\n",
        "\n",
        "\n"
      ],
      "metadata": {
        "colab": {
          "base_uri": "https://localhost:8080/",
          "height": 409,
          "referenced_widgets": [
            "264d6c169c4c4bfaa5b2d4b32160828e",
            "f7331c69961e4622a3106da566ba6217",
            "85fe8aa4d61a4fe48aab7b4f805f4d87",
            "4ac58cc9e3b846cc8fc630e2848e8d8b",
            "be740b46516f4f5fbbcbd2a297d017b8",
            "0c5016ee6e3448efac418eb07f60faa8",
            "7f58bcfee999465485c92be9c529d648",
            "cfb9e58342a643a8a195f252915d3958",
            "ab3fdb3a07914503a784097bee98a4e6",
            "23eaccf0612445a8a720f57fe840641d",
            "5171639e02f84f0a8a936617c9e3a3d8",
            "b3b234e5fcdf44e999a183e691670241",
            "ae7b2066daea4795af36db69949ef751"
          ]
        },
        "id": "i8JO4c3rGTM-",
        "outputId": "4d0b11ff-c2c7-48f1-ecca-5dfa461cef17"
      },
      "execution_count": 2,
      "outputs": [
        {
          "output_type": "display_data",
          "data": {
            "text/plain": [
              "interactive(children=(IntSlider(value=1, description='m', max=5, min=-5), Output()), _dom_classes=('widget-int…"
            ],
            "application/vnd.jupyter.widget-view+json": {
              "version_major": 2,
              "version_minor": 0,
              "model_id": "264d6c169c4c4bfaa5b2d4b32160828e"
            }
          },
          "metadata": {
            "application/vnd.jupyter.widget-view+json": {
              "colab": {
                "custom_widget_manager": {
                  "url": "https://ssl.gstatic.com/colaboratory-static/widgets/colab-cdn-widget-manager/d2e234f7cc04bf79/manager.min.js"
                }
              }
            }
          }
        },
        {
          "output_type": "display_data",
          "data": {
            "text/plain": [
              "Canvas(toolbar=Toolbar(toolitems=[('Home', 'Reset original view', 'home', 'home'), ('Back', 'Back to previous …"
            ],
            "image/png": "[encoded data removed]",
            "text/html": [
              "\n",
              "            <div style=\"display: inline-block;\">\n",
              "                <div class=\"jupyter-widgets widget-label\" style=\"text-align: center;\">\n",
              "                    Figure\n",
              "                </div>\n",
              "                <img src='data:image/png;base64,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' width=432.0/>\n",
              "            </div>\n",
              "        "
            ],
            "application/vnd.jupyter.widget-view+json": {
              "version_major": 2,
              "version_minor": 0,
              "model_id": "ae7b2066daea4795af36db69949ef751"
            }
          },
          "metadata": {
            "application/vnd.jupyter.widget-view+json": {
              "colab": {
                "custom_widget_manager": {
                  "url": "https://ssl.gstatic.com/colaboratory-static/widgets/colab-cdn-widget-manager/d2e234f7cc04bf79/manager.min.js"
                }
              }
            }
          }
        }
      ]
    },
    {
      "cell_type": "markdown",
      "source": [
        "Graphically, this equation, $y = 2x$, can be shown as our neuron for NN:\n",
        "<br>\n",
        "\n",
        "<p align=\"center\"><img src=\"https://github.com/van-richard/Machine_Learning_Tutorials/raw/main/img/y_mx.png\"\n",
        "     style=\"float: left; margin-right: 10px;\"\n",
        "     img width=\"75%\" /></p>"
      ],
      "metadata": {
        "id": "IVjlky6R7GfP"
      }
    },
    {
      "cell_type": "code",
      "source": [
        "#@markdown If we include a value(s) of _b_, we get variations in the y-intersection.\n",
        "\n",
        "%matplotlib ipympl\n",
        "from google.colab import output\n",
        "output.enable_custom_widget_manager()\n",
        "\n",
        "x = np.linspace(-10, 10, 100)\n",
        "\n",
        "def f(x, m, b):\n",
        "    return m * x + b\n",
        "\n",
        "fig, ax = plt.subplots()\n",
        "line, = ax.plot(x, f(x, m=1, b=0))\n",
        "\n",
        "def update(m = 1, b = 0):\n",
        "    line.set_ydata(f(x,m,b))\n",
        "    fig.canvas.draw_idle()\n",
        "    \n",
        "interact(update, m=(-5,5,1), b=(-5,5,1));\n",
        "\n",
        "# Formating plot\n",
        "ax.set_title('$y = mx + b$')\n",
        "# Move left y-axis and bottim x-axis to centre, passing through (0,0)\n",
        "ax.spines['left'].set_position('zero')\n",
        "ax.spines['bottom'].set_position('zero')\n",
        "# Eliminate upper and right axes\n",
        "ax.spines['right'].set_color('none')\n",
        "ax.spines['top'].set_color('none')"
      ],
      "metadata": {
        "id": "QAOdxMuUzs3a",
        "colab": {
          "base_uri": "https://localhost:8080/",
          "height": 441,
          "referenced_widgets": [
            "8f834ddb0dc143fa89e68c3a812a2f02",
            "43b25eae2c404d60a2196aa264fafe93",
            "369a189d5e4b43ea9fa01c4c33d21f18",
            "c51f9f00692445499f75d53ff9dc4206",
            "119272aa056049b093dc7afa378a0319",
            "808af20210824536a117f92d3b9bdde0",
            "080e2c14ea494ddcb120e1335247477a",
            "0a30ca0d6d3e44499d3c212603194b7d",
            "8f2f6e7ab704422e805bac8a0d10bee7",
            "67015d5e8dba4e2cb9d91bca62098a27",
            "4bebcbc079f44e7f88463bc8380cb378",
            "8747fa7c695f4566b7efbfdbd40cccb0",
            "755b4ae503cd46af9a170ae2461d31f5",
            "8ac22424451542fc9f281d980bab8dc7"
          ]
        },
        "cellView": "form",
        "outputId": "038f0253-bae4-42d0-dd16-d894ffe3c689"
      },
      "execution_count": 15,
      "outputs": [
        {
          "output_type": "display_data",
          "data": {
            "text/plain": [
              "interactive(children=(IntSlider(value=1, description='m', max=5, min=-5), IntSlider(value=0, description='b', …"
            ],
            "application/vnd.jupyter.widget-view+json": {
              "version_major": 2,
              "version_minor": 0,
              "model_id": "8f834ddb0dc143fa89e68c3a812a2f02"
            }
          },
          "metadata": {
            "application/vnd.jupyter.widget-view+json": {
              "colab": {
                "custom_widget_manager": {
                  "url": "https://ssl.gstatic.com/colaboratory-static/widgets/colab-cdn-widget-manager/d2e234f7cc04bf79/manager.min.js"
                }
              }
            }
          }
        },
        {
          "output_type": "display_data",
          "data": {
            "text/plain": [
              "Canvas(toolbar=Toolbar(toolitems=[('Home', 'Reset original view', 'home', 'home'), ('Back', 'Back to previous …"
            ],
            "image/png": "[encoded data removed]",
            "text/html": [
              "\n",
              "            <div style=\"display: inline-block;\">\n",
              "                <div class=\"jupyter-widgets widget-label\" style=\"text-align: center;\">\n",
              "                    Figure\n",
              "                </div>\n",
              "                <img src='data:image/png;base64,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' width=432.0/>\n",
              "            </div>\n",
              "        "
            ],
            "application/vnd.jupyter.widget-view+json": {
              "version_major": 2,
              "version_minor": 0,
              "model_id": "4bebcbc079f44e7f88463bc8380cb378"
            }
          },
          "metadata": {
            "application/vnd.jupyter.widget-view+json": {
              "colab": {
                "custom_widget_manager": {
                  "url": "https://ssl.gstatic.com/colaboratory-static/widgets/colab-cdn-widget-manager/d2e234f7cc04bf79/manager.min.js"
                }
              }
            }
          }
        }
      ]
    },
    {
      "cell_type": "markdown",
      "source": [
        "Including the _b_, the neuron would look like this:\n",
        "\n",
        "<p align=\"center\"><img src=\"https://github.com/van-richard/Machine_Learning_Tutorials/raw/main/img/y_mx_b.png\"\n",
        "     style=\"float: left; margin-right: 10px;\"\n",
        "     img width=\"75%\" /></p>\n",
        "\n",
        "\\begin{equation*}\n",
        "v_0 = w_1 x_1 + b\n",
        "\\tag{2}\n",
        "\\end{equation*}\n",
        "\n",
        "Looking familiar yet? \n",
        "\n",
        "Equation 2 still represents a linear relationship, but it should be visually apparent how weights and biases affect the neuron for a single input (_x_).\n",
        "\n",
        "So what does a neuron with two inputs look like? Equation 1 can be written as:\n",
        "\n",
        "$$\n",
        "y = m_1 x_1 + m_2 x_2 + b\n",
        "$$\n",
        "\n",
        "Therefore, equation 2 can be written as:\n",
        "\n",
        "$$\n",
        "v_0 = w_1 x_1 + w_2 x_2 + b\n",
        "$$\n",
        "\n",
        "This may seem familiar to those that have taken Linear Algebra.... Unfortunately.... I am not one of those people, so let's try and give ourselves a mental representation. Consider:\n",
        "\n",
        "$$\n",
        "y = -3x +2 \\\\\n",
        "y = x + 2\n",
        "$$\n",
        "\n",
        "which, when graphed looks like the following. Adding the two equations gives us:\n",
        "\n",
        "$$\n",
        "y = -1x + 2\n",
        "$$"
      ],
      "metadata": {
        "id": "GbsyHgVSHcSW"
      }
    },
    {
      "cell_type": "code",
      "source": [
        "#@markdown Note that example equation 3 shows the average.\n",
        "\n",
        "plt.close()\n",
        "\n",
        "fig, ax = plt.subplots()\n",
        "\n",
        "x = np.linspace(-5,5,20)\n",
        "\n",
        "def linear_regression(x,m,b):\n",
        "  return m * x + b\n",
        "\n",
        "ax.plot(x, linear_regression(x, m=-3, b=2), label='Example Equation 1')\n",
        "ax.plot(x, linear_regression(x, m=1, b=2), label='Example Equation 2')\n",
        "ax.plot(x, linear_regression(x, m=-1, b=2), label='Example Equation 3')\n",
        "\n",
        "# Move left y-axis and bottim x-axis to centre, passing through (0,0)\n",
        "ax.spines['left'].set_position('zero')\n",
        "ax.spines['bottom'].set_position('zero')\n",
        "# Eliminate upper and right axes\n",
        "ax.spines['right'].set_color('none')\n",
        "ax.spines['top'].set_color('none')\n",
        "\n",
        "plt.legend()"
      ],
      "metadata": {
        "id": "Hi1fRh033Eto",
        "colab": {
          "base_uri": "https://localhost:8080/",
          "height": 395,
          "referenced_widgets": [
            "46413ef49ba6419d9684c28d13efbad3",
            "e671b0d9df5246a1b0bc7b36b12440ee",
            "9d53782d279943438c35516bbdb4e8a0",
            "3e80a582973c47cf8cad1c2649dcf28c"
          ]
        },
        "cellView": "form",
        "outputId": "67686bf4-b1bd-4e6b-856d-a80d153fec53"
      },
      "execution_count": 20,
      "outputs": [
        {
          "output_type": "execute_result",
          "data": {
            "text/plain": [
              "<matplotlib.legend.Legend at 0x7f0ed8285cd0>"
            ]
          },
          "metadata": {},
          "execution_count": 20
        },
        {
          "output_type": "display_data",
          "data": {
            "text/plain": [
              "Canvas(toolbar=Toolbar(toolitems=[('Home', 'Reset original view', 'home', 'home'), ('Back', 'Back to previous …"
            ],
            "image/png": "[encoded data removed]",
            "text/html": [
              "\n",
              "            <div style=\"display: inline-block;\">\n",
              "                <div class=\"jupyter-widgets widget-label\" style=\"text-align: center;\">\n",
              "                    Figure\n",
              "                </div>\n",
              "                <img src='data:image/png;base64,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' width=432.0/>\n",
              "            </div>\n",
              "        "
            ],
            "application/vnd.jupyter.widget-view+json": {
              "version_major": 2,
              "version_minor": 0,
              "model_id": "46413ef49ba6419d9684c28d13efbad3"
            }
          },
          "metadata": {
            "application/vnd.jupyter.widget-view+json": {
              "colab": {
                "custom_widget_manager": {
                  "url": "https://ssl.gstatic.com/colaboratory-static/widgets/colab-cdn-widget-manager/d2e234f7cc04bf79/manager.min.js"
                }
              }
            }
          }
        }
      ]
    },
    {
      "cell_type": "markdown",
      "source": [
        "If we rearrange the equation further, where:\n",
        "\n",
        "$$\n",
        "v_0 = y \\\\\n",
        "u_1 = w_1 x_1 \\\\\n",
        "u_2 = w_2 x_2\n",
        "$$\n",
        "\n",
        "We get the relationship:\n",
        "\n",
        "\\begin{equation*}\n",
        "v_0 = u_1 + u_2 = w_1 x_1 + w_2 x_2\n",
        "\\tag{3}\n",
        "\\end{equation*}\n",
        "\n",
        "Visually this is:\n",
        "\n",
        "<p align=\"center\"><img src=\"https://github.com/van-richard/Machine_Learning_Tutorials/raw/main/img/node.png\"\n",
        "     style=\"float: left; margin-right: 10px;\"\n",
        "     img width=\"75%\" /></p>\n",
        "\n",
        "We can take this a step further, and have multiple inputs and express this in n-dimensions (rather than 2). In doing, so we get a very tedious expression of equation 3...\n",
        "\n",
        "$$\n",
        "v_0 = w_1 x_1 + w_2 x_2 + ... + w_n x_n \\\\\n",
        "or \\\\\n",
        "v_0 = u_1 + u_2 + ... + u_n\n",
        "\\tag{4}\n",
        "$$\n",
        "\n",
        "The shortcut notation of equations 4 can be written using summations, where _i_ is the number of inputs:\n",
        "\n",
        "\\begin{equation*}\n",
        "v_0 = \\sum_{i} u_i\n",
        "\\tag{5}\n",
        "\\end{equation*}"
      ],
      "metadata": {
        "id": "Ix3o1jwPKV75"
      }
    },
    {
      "cell_type": "code",
      "source": [],
      "metadata": {
        "id": "vblKhOuPKUSR"
      },
      "execution_count": null,
      "outputs": []
    }
  ]
}